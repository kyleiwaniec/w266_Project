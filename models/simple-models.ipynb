{
 "cells": [
  {
   "cell_type": "code",
   "execution_count": 1,
   "metadata": {
    "collapsed": false
   },
   "outputs": [],
   "source": [
    "import math\n",
    "import pickle\n",
    "\n",
    "import numpy as np\n",
    "import pandas as pd\n",
    "import matplotlib.pyplot as plt"
   ]
  },
  {
   "cell_type": "code",
   "execution_count": 2,
   "metadata": {
    "collapsed": false
   },
   "outputs": [
    {
     "ename": "IOError",
     "evalue": "File /usr/src/app/data/ka-comments.csv does not exist",
     "output_type": "error",
     "traceback": [
      "\u001b[0;31m---------------------------------------------------------------------------\u001b[0m",
      "\u001b[0;31mIOError\u001b[0m                                   Traceback (most recent call last)",
      "\u001b[0;32m<ipython-input-2-9f554b2f1433>\u001b[0m in \u001b[0;36m<module>\u001b[0;34m()\u001b[0m\n\u001b[0;32m----> 1\u001b[0;31m \u001b[0mcomments\u001b[0m \u001b[0;34m=\u001b[0m \u001b[0mpd\u001b[0m\u001b[0;34m.\u001b[0m\u001b[0mread_csv\u001b[0m\u001b[0;34m(\u001b[0m\u001b[0;34m\"/usr/src/app/data/ka-comments.csv\"\u001b[0m\u001b[0;34m)\u001b[0m\u001b[0;34m\u001b[0m\u001b[0m\n\u001b[0m\u001b[1;32m      2\u001b[0m \u001b[0;34m\u001b[0m\u001b[0m\n\u001b[1;32m      3\u001b[0m \u001b[0;32mprint\u001b[0m \u001b[0;34m\"Total size: %d\"\u001b[0m \u001b[0;34m%\u001b[0m \u001b[0mlen\u001b[0m\u001b[0;34m(\u001b[0m\u001b[0mcomments\u001b[0m\u001b[0;34m)\u001b[0m\u001b[0;34m\u001b[0m\u001b[0m\n\u001b[1;32m      4\u001b[0m \u001b[0;34m\u001b[0m\u001b[0m\n\u001b[1;32m      5\u001b[0m \u001b[0;32mprint\u001b[0m \u001b[0mcomments\u001b[0m\u001b[0;34m[\u001b[0m\u001b[0;34m:\u001b[0m\u001b[0;36m10\u001b[0m\u001b[0;34m]\u001b[0m\u001b[0;34m\u001b[0m\u001b[0m\n",
      "\u001b[0;32m/Users/koza/anaconda2/lib/python2.7/site-packages/pandas/io/parsers.pyc\u001b[0m in \u001b[0;36mparser_f\u001b[0;34m(filepath_or_buffer, sep, delimiter, header, names, index_col, usecols, squeeze, prefix, mangle_dupe_cols, dtype, engine, converters, true_values, false_values, skipinitialspace, skiprows, skipfooter, nrows, na_values, keep_default_na, na_filter, verbose, skip_blank_lines, parse_dates, infer_datetime_format, keep_date_col, date_parser, dayfirst, iterator, chunksize, compression, thousands, decimal, lineterminator, quotechar, quoting, escapechar, comment, encoding, dialect, tupleize_cols, error_bad_lines, warn_bad_lines, skip_footer, doublequote, delim_whitespace, as_recarray, compact_ints, use_unsigned, low_memory, buffer_lines, memory_map, float_precision)\u001b[0m\n\u001b[1;32m    527\u001b[0m                     skip_blank_lines=skip_blank_lines)\n\u001b[1;32m    528\u001b[0m \u001b[0;34m\u001b[0m\u001b[0m\n\u001b[0;32m--> 529\u001b[0;31m         \u001b[0;32mreturn\u001b[0m \u001b[0m_read\u001b[0m\u001b[0;34m(\u001b[0m\u001b[0mfilepath_or_buffer\u001b[0m\u001b[0;34m,\u001b[0m \u001b[0mkwds\u001b[0m\u001b[0;34m)\u001b[0m\u001b[0;34m\u001b[0m\u001b[0m\n\u001b[0m\u001b[1;32m    530\u001b[0m \u001b[0;34m\u001b[0m\u001b[0m\n\u001b[1;32m    531\u001b[0m     \u001b[0mparser_f\u001b[0m\u001b[0;34m.\u001b[0m\u001b[0m__name__\u001b[0m \u001b[0;34m=\u001b[0m \u001b[0mname\u001b[0m\u001b[0;34m\u001b[0m\u001b[0m\n",
      "\u001b[0;32m/Users/koza/anaconda2/lib/python2.7/site-packages/pandas/io/parsers.pyc\u001b[0m in \u001b[0;36m_read\u001b[0;34m(filepath_or_buffer, kwds)\u001b[0m\n\u001b[1;32m    293\u001b[0m \u001b[0;34m\u001b[0m\u001b[0m\n\u001b[1;32m    294\u001b[0m     \u001b[0;31m# Create the parser.\u001b[0m\u001b[0;34m\u001b[0m\u001b[0;34m\u001b[0m\u001b[0m\n\u001b[0;32m--> 295\u001b[0;31m     \u001b[0mparser\u001b[0m \u001b[0;34m=\u001b[0m \u001b[0mTextFileReader\u001b[0m\u001b[0;34m(\u001b[0m\u001b[0mfilepath_or_buffer\u001b[0m\u001b[0;34m,\u001b[0m \u001b[0;34m**\u001b[0m\u001b[0mkwds\u001b[0m\u001b[0;34m)\u001b[0m\u001b[0;34m\u001b[0m\u001b[0m\n\u001b[0m\u001b[1;32m    296\u001b[0m \u001b[0;34m\u001b[0m\u001b[0m\n\u001b[1;32m    297\u001b[0m     \u001b[0;32mif\u001b[0m \u001b[0;34m(\u001b[0m\u001b[0mnrows\u001b[0m \u001b[0;32mis\u001b[0m \u001b[0;32mnot\u001b[0m \u001b[0mNone\u001b[0m\u001b[0;34m)\u001b[0m \u001b[0;32mand\u001b[0m \u001b[0;34m(\u001b[0m\u001b[0mchunksize\u001b[0m \u001b[0;32mis\u001b[0m \u001b[0;32mnot\u001b[0m \u001b[0mNone\u001b[0m\u001b[0;34m)\u001b[0m\u001b[0;34m:\u001b[0m\u001b[0;34m\u001b[0m\u001b[0m\n",
      "\u001b[0;32m/Users/koza/anaconda2/lib/python2.7/site-packages/pandas/io/parsers.pyc\u001b[0m in \u001b[0;36m__init__\u001b[0;34m(self, f, engine, **kwds)\u001b[0m\n\u001b[1;32m    610\u001b[0m             \u001b[0mself\u001b[0m\u001b[0;34m.\u001b[0m\u001b[0moptions\u001b[0m\u001b[0;34m[\u001b[0m\u001b[0;34m'has_index_names'\u001b[0m\u001b[0;34m]\u001b[0m \u001b[0;34m=\u001b[0m \u001b[0mkwds\u001b[0m\u001b[0;34m[\u001b[0m\u001b[0;34m'has_index_names'\u001b[0m\u001b[0;34m]\u001b[0m\u001b[0;34m\u001b[0m\u001b[0m\n\u001b[1;32m    611\u001b[0m \u001b[0;34m\u001b[0m\u001b[0m\n\u001b[0;32m--> 612\u001b[0;31m         \u001b[0mself\u001b[0m\u001b[0;34m.\u001b[0m\u001b[0m_make_engine\u001b[0m\u001b[0;34m(\u001b[0m\u001b[0mself\u001b[0m\u001b[0;34m.\u001b[0m\u001b[0mengine\u001b[0m\u001b[0;34m)\u001b[0m\u001b[0;34m\u001b[0m\u001b[0m\n\u001b[0m\u001b[1;32m    613\u001b[0m \u001b[0;34m\u001b[0m\u001b[0m\n\u001b[1;32m    614\u001b[0m     \u001b[0;32mdef\u001b[0m \u001b[0m_get_options_with_defaults\u001b[0m\u001b[0;34m(\u001b[0m\u001b[0mself\u001b[0m\u001b[0;34m,\u001b[0m \u001b[0mengine\u001b[0m\u001b[0;34m)\u001b[0m\u001b[0;34m:\u001b[0m\u001b[0;34m\u001b[0m\u001b[0m\n",
      "\u001b[0;32m/Users/koza/anaconda2/lib/python2.7/site-packages/pandas/io/parsers.pyc\u001b[0m in \u001b[0;36m_make_engine\u001b[0;34m(self, engine)\u001b[0m\n\u001b[1;32m    745\u001b[0m     \u001b[0;32mdef\u001b[0m \u001b[0m_make_engine\u001b[0m\u001b[0;34m(\u001b[0m\u001b[0mself\u001b[0m\u001b[0;34m,\u001b[0m \u001b[0mengine\u001b[0m\u001b[0;34m=\u001b[0m\u001b[0;34m'c'\u001b[0m\u001b[0;34m)\u001b[0m\u001b[0;34m:\u001b[0m\u001b[0;34m\u001b[0m\u001b[0m\n\u001b[1;32m    746\u001b[0m         \u001b[0;32mif\u001b[0m \u001b[0mengine\u001b[0m \u001b[0;34m==\u001b[0m \u001b[0;34m'c'\u001b[0m\u001b[0;34m:\u001b[0m\u001b[0;34m\u001b[0m\u001b[0m\n\u001b[0;32m--> 747\u001b[0;31m             \u001b[0mself\u001b[0m\u001b[0;34m.\u001b[0m\u001b[0m_engine\u001b[0m \u001b[0;34m=\u001b[0m \u001b[0mCParserWrapper\u001b[0m\u001b[0;34m(\u001b[0m\u001b[0mself\u001b[0m\u001b[0;34m.\u001b[0m\u001b[0mf\u001b[0m\u001b[0;34m,\u001b[0m \u001b[0;34m**\u001b[0m\u001b[0mself\u001b[0m\u001b[0;34m.\u001b[0m\u001b[0moptions\u001b[0m\u001b[0;34m)\u001b[0m\u001b[0;34m\u001b[0m\u001b[0m\n\u001b[0m\u001b[1;32m    748\u001b[0m         \u001b[0;32melse\u001b[0m\u001b[0;34m:\u001b[0m\u001b[0;34m\u001b[0m\u001b[0m\n\u001b[1;32m    749\u001b[0m             \u001b[0;32mif\u001b[0m \u001b[0mengine\u001b[0m \u001b[0;34m==\u001b[0m \u001b[0;34m'python'\u001b[0m\u001b[0;34m:\u001b[0m\u001b[0;34m\u001b[0m\u001b[0m\n",
      "\u001b[0;32m/Users/koza/anaconda2/lib/python2.7/site-packages/pandas/io/parsers.pyc\u001b[0m in \u001b[0;36m__init__\u001b[0;34m(self, src, **kwds)\u001b[0m\n\u001b[1;32m   1117\u001b[0m         \u001b[0mkwds\u001b[0m\u001b[0;34m[\u001b[0m\u001b[0;34m'allow_leading_cols'\u001b[0m\u001b[0;34m]\u001b[0m \u001b[0;34m=\u001b[0m \u001b[0mself\u001b[0m\u001b[0;34m.\u001b[0m\u001b[0mindex_col\u001b[0m \u001b[0;32mis\u001b[0m \u001b[0;32mnot\u001b[0m \u001b[0mFalse\u001b[0m\u001b[0;34m\u001b[0m\u001b[0m\n\u001b[1;32m   1118\u001b[0m \u001b[0;34m\u001b[0m\u001b[0m\n\u001b[0;32m-> 1119\u001b[0;31m         \u001b[0mself\u001b[0m\u001b[0;34m.\u001b[0m\u001b[0m_reader\u001b[0m \u001b[0;34m=\u001b[0m \u001b[0m_parser\u001b[0m\u001b[0;34m.\u001b[0m\u001b[0mTextReader\u001b[0m\u001b[0;34m(\u001b[0m\u001b[0msrc\u001b[0m\u001b[0;34m,\u001b[0m \u001b[0;34m**\u001b[0m\u001b[0mkwds\u001b[0m\u001b[0;34m)\u001b[0m\u001b[0;34m\u001b[0m\u001b[0m\n\u001b[0m\u001b[1;32m   1120\u001b[0m \u001b[0;34m\u001b[0m\u001b[0m\n\u001b[1;32m   1121\u001b[0m         \u001b[0;31m# XXX\u001b[0m\u001b[0;34m\u001b[0m\u001b[0;34m\u001b[0m\u001b[0m\n",
      "\u001b[0;32mpandas/parser.pyx\u001b[0m in \u001b[0;36mpandas.parser.TextReader.__cinit__ (pandas/parser.c:3246)\u001b[0;34m()\u001b[0m\n",
      "\u001b[0;32mpandas/parser.pyx\u001b[0m in \u001b[0;36mpandas.parser.TextReader._setup_parser_source (pandas/parser.c:6111)\u001b[0;34m()\u001b[0m\n",
      "\u001b[0;31mIOError\u001b[0m: File /usr/src/app/data/ka-comments.csv does not exist"
     ]
    }
   ],
   "source": [
    "comments = pd.read_csv(\"/usr/src/app/data/ka-comments.csv\")\n",
    "\n",
    "print \"Total size: %d\" % len(comments)\n",
    "\n",
    "print comments[:10]"
   ]
  },
  {
   "cell_type": "code",
   "execution_count": 3,
   "metadata": {
    "collapsed": false
   },
   "outputs": [
    {
     "data": {
      "image/png": "[encoded data removed]",
      "text/plain": [
       "<matplotlib.figure.Figure at 0x7f91c622e710>"
      ]
     },
     "metadata": {},
     "output_type": "display_data"
    }
   ],
   "source": [
    "plt.hist(comments[\"sumVotesIncremented\"], 100, facecolor='green', log=True, alpha=0.75)\n",
    "plt.show()"
   ]
  },
  {
   "cell_type": "code",
   "execution_count": 11,
   "metadata": {
    "collapsed": false
   },
   "outputs": [
    {
     "name": "stdout",
     "output_type": "stream",
     "text": [
      "254896 / 1145440 comments have votes\n",
      "509792 balanced indices\n",
      "Training set 499792, Validate set 5000, Test set 5000 5000\n",
      "                   video                                        id  \\\n",
      "0   ancient-temples-nara  33ae6dffe9efdf1bba47412945f3f96ee85e39f7   \n",
      "6   ancient-temples-nara  58f2adc07ebca4285963c55b2736449f900458bd   \n",
      "1   ancient-temples-nara  ea997873e7cd069c8a6bf2f14809950ac237001c   \n",
      "12  ancient-temples-nara  bd7b4e50832d4edb4b4383ba518198574878b1cb   \n",
      "2   ancient-temples-nara  61b80f281d1ac24d102535496ad3a963e226cdeb   \n",
      "13  ancient-temples-nara  e686507bd6e75f003b0d5bd9618444a932379e75   \n",
      "3   ancient-temples-nara  49349c01d95f512a04da8f32d54e4aa22d7ec8a9   \n",
      "14  ancient-temples-nara  c88f018582f46316de75bb2671dd82335bf3cde3   \n",
      "4   ancient-temples-nara  847d456003e470c236375a5195d87dc94b46cfc1   \n",
      "15  ancient-temples-nara  37b39a27c8fbac57d934266708d94a0fed95de39   \n",
      "\n",
      "                                              content  \\\n",
      "0   Why does the pagoda have 5 stories? Wouldn't t...   \n",
      "6   At 2:25 there some massive guardian figures.\\n...   \n",
      "1   5 stories represent  5 elements make up our wo...   \n",
      "12  It's more likely that over the years the deer ...   \n",
      "2   Because it's easier to calculate the middle wi...   \n",
      "13  At 2:25, are guardian figures like there exclu...   \n",
      "3   Pagodas are almost always of odd numbers, poss...   \n",
      "14      how big are the temples and where are they at   \n",
      "4   Why are the eaves or the temples sticking out ...   \n",
      "15  At 1:41, what materials did they use to make t...   \n",
      "\n",
      "                        authorKaid  answerCount  replyCount  \\\n",
      "0    kaid_242338940416805013678006            3           0   \n",
      "6    kaid_819101114198704465706980            1           0   \n",
      "1    kaid_431267364185283302536347            0           0   \n",
      "12  kaid_1135066558340228137091505            0           0   \n",
      "2    kaid_713858679982101860216833            0           0   \n",
      "13   kaid_651326781736182613546557            0           0   \n",
      "3   kaid_1055297580865890977400015            0           1   \n",
      "14   kaid_265222005907826273445205            0           0   \n",
      "4    kaid_321962000752442001275392            1           0   \n",
      "15   kaid_745450027598856857256852            0           0   \n",
      "\n",
      "                    date  sumVotesIncremented qualityKind  \\\n",
      "0   2014-03-26T06:07:59Z                    3      normal   \n",
      "6   2014-03-30T14:38:22Z                    1      normal   \n",
      "1   2014-08-03T09:08:58Z                    5      normal   \n",
      "12  2015-01-06T20:07:29Z                    1      normal   \n",
      "2   2014-03-26T16:03:51Z                    3      normal   \n",
      "13  2015-01-08T06:24:43Z                    1      normal   \n",
      "3   2014-09-02T02:57:40Z                    2      normal   \n",
      "14  2014-05-04T20:21:15Z                    1      normal   \n",
      "4   2014-04-10T01:11:09Z                    3      normal   \n",
      "15  2014-04-30T10:26:23Z                    1      normal   \n",
      "\n",
      "                                     replyTo hasVotes  \n",
      "0                                        NaN     True  \n",
      "6                                        NaN    False  \n",
      "1   33ae6dffe9efdf1bba47412945f3f96ee85e39f7     True  \n",
      "12  f31d0b3829cdbc3bfe27bd8ff9b936fa29684c34    False  \n",
      "2   33ae6dffe9efdf1bba47412945f3f96ee85e39f7     True  \n",
      "13                                       NaN    False  \n",
      "3   33ae6dffe9efdf1bba47412945f3f96ee85e39f7     True  \n",
      "14                                       NaN    False  \n",
      "4                                        NaN     True  \n",
      "15                                       NaN    False  \n"
     ]
    }
   ],
   "source": [
    "def transform_scores(data):\n",
    "    # Turn `sumVotesIncremented` into a binary variable\n",
    "    data[\"hasVotes\"] = data[\"sumVotesIncremented\"] > 1\n",
    "\n",
    "    # Count positives\n",
    "    positive_count = np.sum(data[\"hasVotes\"])\n",
    "    print \"%d / %d comments have votes\" % (positive_count, len(data))\n",
    "\n",
    "    # Generate a balanced set, interleaved TFTF... so we can easily\n",
    "    # create balanced training/test sets by taking slices\n",
    "    positive_indices = np.where(data[\"hasVotes\"] == True)[0]\n",
    "    negative_indices = np.where(data[\"hasVotes\"] == False)[0]\n",
    "    balanced_indices = [val for pair in zip(positive_indices, negative_indices[:len(positive_indices)]) for val in pair]\n",
    "    print \"%d balanced indices\" % len(balanced_indices)\n",
    "\n",
    "    return data.iloc[balanced_indices]\n",
    "    \n",
    "balanced_comments = transform_scores(comments)\n",
    "\n",
    "VALIDATE_SIZE = 5000\n",
    "TEST_SIZE = 5000\n",
    "TRAIN_SIZE = len(balanced_comments) - VALIDATE_SIZE - TEST_SIZE\n",
    "print \"Training set %d, Validate set %d, Test set 5000 %d\" % (TRAIN_SIZE, VALIDATE_SIZE, TEST_SIZE)\n",
    "\n",
    "print balanced_comments[:10] \n"
   ]
  },
  {
   "cell_type": "code",
   "execution_count": 34,
   "metadata": {
    "collapsed": false,
    "scrolled": true
   },
   "outputs": [
    {
     "name": "stdout",
     "output_type": "stream",
     "text": [
      "Vectorizing vec-tfidf-1...\n",
      "Vocab size 3258\n",
      "Vectorizing vec-tfidf-2...\n",
      "Vocab size 8679\n",
      "Vectorizing vec-tfidf-3...\n",
      "Vocab size 10466\n",
      "Done.\n"
     ]
    }
   ],
   "source": [
    "from sklearn.feature_extraction.text import TfidfVectorizer\n",
    "from sklearn.random_projection import GaussianRandomProjection\n",
    "\n",
    "def vectorize(data_name, vectorizer, data, train_size, validate_size, test_size):\n",
    "    print \"Vectorizing %s...\" % data_name\n",
    "\n",
    "    model = {}\n",
    "    \n",
    "    model['X_train'] = vectorizer.fit_transform(comments[\"content\"][:train_size])\n",
    "    model['Y_train'] = comments[\"hasVotes\"][:train_size]\n",
    "    \n",
    "    print \"Vocab size %d\" % len(vectorizer.vocabulary_)\n",
    "        \n",
    "    model['X_validate'] = vectorizer.transform(comments[\"content\"][train_size:train_size+validate_size])\n",
    "    model['Y_validate'] = comments[\"hasVotes\"][train_size:train_size+validate_size]\n",
    "    \n",
    "    model['X_test'] = vectorizer.transform(comments[\"content\"][train_size+validate_size:train_size+validate_size+test_size])\n",
    "    model['Y_test'] = comments[\"hasVotes\"][train_size+validate_size:train_size+validate_size+test_size]\n",
    "    \n",
    "    with open(\"/usr/src/app/model-data/%s.pickle\" % data_name, \"wb\") as f:\n",
    "        pickle.dump(model, f)\n",
    "\n",
    "# 1-grams\n",
    "vectorize(\"vec-tfidf-1\", TfidfVectorizer(min_df=0.0005),\n",
    "          balanced_comments, TRAIN_SIZE, VALIDATE_SIZE, TEST_SIZE)\n",
    "\n",
    "# 2-grams\n",
    "vectorize(\"vec-tfidf-2\", TfidfVectorizer(min_df=0.0005, ngram_range=(1,2)),\n",
    "          balanced_comments, TRAIN_SIZE, VALIDATE_SIZE, TEST_SIZE)\n",
    "\n",
    "# 3-grams\n",
    "vectorize(\"vec-tfidf-3\", TfidfVectorizer(min_df=0.0005, ngram_range=(1,3)),\n",
    "          balanced_comments, TRAIN_SIZE, VALIDATE_SIZE, TEST_SIZE)\n",
    "\n",
    "print \"Done.\"\n"
   ]
  },
  {
   "cell_type": "code",
   "execution_count": 4,
   "metadata": {
    "collapsed": false
   },
   "outputs": [
    {
     "name": "stdout",
     "output_type": "stream",
     "text": [
      "Loading model vec-tfidf-1...\n",
      "(499792, 3258)\n",
      "Training models.\n",
      "##        MultinomialNB     vec-tfidf-1 accuracy: 77.8 %\n",
      "##            LinearSVC     vec-tfidf-1 accuracy: 78.1 %\n",
      "##                  MLP     vec-tfidf-1 accuracy: 77.6 %\n",
      "Loading model vec-tfidf-2...\n",
      "(499792, 8679)\n",
      "Training models.\n",
      "##        MultinomialNB     vec-tfidf-2 accuracy: 77.8 %\n",
      "##            LinearSVC     vec-tfidf-2 accuracy: 78.1 %\n",
      "##                  MLP     vec-tfidf-2 accuracy: 77.8 %\n",
      "Loading model vec-tfidf-3...\n",
      "(499792, 10466)\n",
      "Training models.\n",
      "##        MultinomialNB     vec-tfidf-3 accuracy: 77.7 %\n",
      "##            LinearSVC     vec-tfidf-3 accuracy: 78.0 %\n",
      "##                  MLP     vec-tfidf-3 accuracy: 78.0 %\n"
     ]
    }
   ],
   "source": [
    "from sklearn.naive_bayes import MultinomialNB\n",
    "from sklearn.neural_network import MLPClassifier\n",
    "from sklearn.svm import LinearSVC\n",
    "\n",
    "def load_model(data_name):\n",
    "    with open(\"/usr/src/app/model-data/%s.pickle\" % data_name, \"rb\") as f:\n",
    "        return pickle.load(f)\n",
    "\n",
    "def fit_models(data_names, model_types):\n",
    "    for data_name in data_names:\n",
    "        print \"Loading model %s...\" % data_name\n",
    "        data_model = load_model(data_name)\n",
    "        print np.shape(data_model['X_train'])\n",
    "\n",
    "        print \"Training models.\"\n",
    "        for model_name, model in model_types:\n",
    "            model.fit(data_model['X_train'], data_model['Y_train'])\n",
    "            score = model.score(data_model['X_validate'], data_model['Y_validate'])\n",
    "            print \"## %20s %15s accuracy: %0.1f %%\" % (model_name, data_name, score * 100)\n",
    "    \n",
    "fit_models([\"vec-tfidf-1\", \"vec-tfidf-2\", \"vec-tfidf-3\"], [\n",
    "    [\"MultinomialNB\", MultinomialNB()],\n",
    "    [\"LinearSVC\", LinearSVC()],\n",
    "    [\"MLP\", MLPClassifier(hidden_layer_sizes=(20,20), early_stopping=True)],\n",
    "])\n"
   ]
  },
  {
   "cell_type": "code",
   "execution_count": null,
   "metadata": {
    "collapsed": true
   },
   "outputs": [],
   "source": []
  }
 ],
 "metadata": {
  "kernelspec": {
   "display_name": "Python 2",
   "language": "python",
   "name": "python2"
  },
  "language_info": {
   "codemirror_mode": {
    "name": "ipython",
    "version": 2
   },
   "file_extension": ".py",
   "mimetype": "text/x-python",
   "name": "python",
   "nbconvert_exporter": "python",
   "pygments_lexer": "ipython2",
   "version": "2.7.11"
  }
 },
 "nbformat": 4,
 "nbformat_minor": 1
}
