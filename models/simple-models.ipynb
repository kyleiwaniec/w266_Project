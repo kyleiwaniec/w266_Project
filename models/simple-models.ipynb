{
 "cells": [
  {
   "cell_type": "code",
   "execution_count": 2,
   "metadata": {
    "collapsed": false
   },
   "outputs": [],
   "source": [
    "import math\n",
    "import pickle\n",
    "\n",
    "import numpy as np\n",
    "import pandas as pd\n",
    "import matplotlib.pyplot as plt"
   ]
  },
  {
   "cell_type": "code",
   "execution_count": null,
   "metadata": {
    "collapsed": true
   },
   "outputs": [],
   "source": [
    "# Tom\n",
    "data = '/usr/src/app/data/ka-comments.csv'\n",
    "model_dir = '/usr/src/app/model-data/'"
   ]
  },
  {
   "cell_type": "code",
   "execution_count": null,
   "metadata": {
    "collapsed": true
   },
   "outputs": [],
   "source": [
    "# Kyle\n",
    "data = '/Users/koza/Documents/UCBerkeley/266/FinalProject/data/ka-comments.csv'\n",
    "model_dir = '/Users/koza/Documents/UCBerkeley/266/FinalProject/model-data/'"
   ]
  },
  {
   "cell_type": "code",
   "execution_count": 7,
   "metadata": {
    "collapsed": true
   },
   "outputs": [],
   "source": [
    "# Cory\n",
    "data = '/path/to/data/ka-comments.csv'\n",
    "model_dir = '/path/to/model-data/'"
   ]
  },
  {
   "cell_type": "code",
   "execution_count": 3,
   "metadata": {
    "collapsed": false
   },
   "outputs": [
    {
     "name": "stdout",
     "output_type": "stream",
     "text": [
      "Total size: 1145440\n",
      "                  video                                        id  \\\n",
      "0  ancient-temples-nara  33ae6dffe9efdf1bba47412945f3f96ee85e39f7   \n",
      "1  ancient-temples-nara  ea997873e7cd069c8a6bf2f14809950ac237001c   \n",
      "2  ancient-temples-nara  61b80f281d1ac24d102535496ad3a963e226cdeb   \n",
      "3  ancient-temples-nara  49349c01d95f512a04da8f32d54e4aa22d7ec8a9   \n",
      "4  ancient-temples-nara  847d456003e470c236375a5195d87dc94b46cfc1   \n",
      "5  ancient-temples-nara  348392e7888687e821de048609cace4a08da4e18   \n",
      "6  ancient-temples-nara  58f2adc07ebca4285963c55b2736449f900458bd   \n",
      "7  ancient-temples-nara  96ca02013d5c2bfe8a1bc29932764a3484d47979   \n",
      "8  ancient-temples-nara  a0c8b56cac318667d2a8aa124b63ff1d00f97fb0   \n",
      "9  ancient-temples-nara  dac041cb6faff46c806323837292d153b478c4b6   \n",
      "\n",
      "                                             content  \\\n",
      "0  Why does the pagoda have 5 stories? Wouldn't t...   \n",
      "1  5 stories represent  5 elements make up our wo...   \n",
      "2  Because it's easier to calculate the middle wi...   \n",
      "3  Pagodas are almost always of odd numbers, poss...   \n",
      "4  Why are the eaves or the temples sticking out ...   \n",
      "5  The eaves were made that large to give the int...   \n",
      "6  At 2:25 there some massive guardian figures.\\n...   \n",
      "7  They are Buddha's guardians, Niō\\nhttp://en.wi...   \n",
      "8  At around 0:43 he said that this was founded b...   \n",
      "9  Seventh Century A.D. http://en.wikipedia.org/w...   \n",
      "\n",
      "                       authorKaid  answerCount  replyCount  \\\n",
      "0   kaid_242338940416805013678006            3           0   \n",
      "1   kaid_431267364185283302536347            0           0   \n",
      "2   kaid_713858679982101860216833            0           0   \n",
      "3  kaid_1055297580865890977400015            0           1   \n",
      "4   kaid_321962000752442001275392            1           0   \n",
      "5   kaid_632690024402491469324740            0           0   \n",
      "6   kaid_819101114198704465706980            1           0   \n",
      "7   kaid_406594814946243496297252            0           1   \n",
      "8   kaid_819101114198704465706980            1           0   \n",
      "9   kaid_278736331476769291575060            0           1   \n",
      "\n",
      "                   date  sumVotesIncremented qualityKind  \\\n",
      "0  2014-03-26T06:07:59Z                    3      normal   \n",
      "1  2014-08-03T09:08:58Z                    5      normal   \n",
      "2  2014-03-26T16:03:51Z                    3      normal   \n",
      "3  2014-09-02T02:57:40Z                    2      normal   \n",
      "4  2014-04-10T01:11:09Z                    3      normal   \n",
      "5  2014-04-10T22:37:29Z                    3      normal   \n",
      "6  2014-03-30T14:38:22Z                    1      normal   \n",
      "7  2014-04-07T07:09:37Z                    4      normal   \n",
      "8  2014-03-30T14:35:46Z                    2      normal   \n",
      "9  2014-04-02T05:26:42Z                    2      normal   \n",
      "\n",
      "                                    replyTo  \n",
      "0                                       NaN  \n",
      "1  33ae6dffe9efdf1bba47412945f3f96ee85e39f7  \n",
      "2  33ae6dffe9efdf1bba47412945f3f96ee85e39f7  \n",
      "3  33ae6dffe9efdf1bba47412945f3f96ee85e39f7  \n",
      "4                                       NaN  \n",
      "5  847d456003e470c236375a5195d87dc94b46cfc1  \n",
      "6                                       NaN  \n",
      "7  58f2adc07ebca4285963c55b2736449f900458bd  \n",
      "8                                       NaN  \n",
      "9  a0c8b56cac318667d2a8aa124b63ff1d00f97fb0  \n"
     ]
    }
   ],
   "source": [
    "comments = pd.read_csv(data)\n",
    "\n",
    "print \"Total size: %d\" % len(comments)\n",
    "\n",
    "print comments[:10]"
   ]
  },
  {
   "cell_type": "code",
   "execution_count": 4,
   "metadata": {
    "collapsed": false
   },
   "outputs": [],
   "source": [
    "\n",
    "plt.hist(comments[\"sumVotesIncremented\"], 100, facecolor='green', log=True, alpha=0.75)\n",
    "plt.show()"
   ]
  },
  {
   "cell_type": "code",
   "execution_count": 5,
   "metadata": {
    "collapsed": false
   },
   "outputs": [
    {
     "name": "stdout",
     "output_type": "stream",
     "text": [
      "254896 / 1145440 comments have votes\n",
      "509792 balanced indices\n",
      "Training set 499792, Validate set 5000, Test set 5000 5000\n",
      "                   video                                        id  \\\n",
      "0   ancient-temples-nara  33ae6dffe9efdf1bba47412945f3f96ee85e39f7   \n",
      "6   ancient-temples-nara  58f2adc07ebca4285963c55b2736449f900458bd   \n",
      "1   ancient-temples-nara  ea997873e7cd069c8a6bf2f14809950ac237001c   \n",
      "12  ancient-temples-nara  bd7b4e50832d4edb4b4383ba518198574878b1cb   \n",
      "2   ancient-temples-nara  61b80f281d1ac24d102535496ad3a963e226cdeb   \n",
      "13  ancient-temples-nara  e686507bd6e75f003b0d5bd9618444a932379e75   \n",
      "3   ancient-temples-nara  49349c01d95f512a04da8f32d54e4aa22d7ec8a9   \n",
      "14  ancient-temples-nara  c88f018582f46316de75bb2671dd82335bf3cde3   \n",
      "4   ancient-temples-nara  847d456003e470c236375a5195d87dc94b46cfc1   \n",
      "15  ancient-temples-nara  37b39a27c8fbac57d934266708d94a0fed95de39   \n",
      "\n",
      "                                              content  \\\n",
      "0   Why does the pagoda have 5 stories? Wouldn't t...   \n",
      "6   At 2:25 there some massive guardian figures.\\n...   \n",
      "1   5 stories represent  5 elements make up our wo...   \n",
      "12  It's more likely that over the years the deer ...   \n",
      "2   Because it's easier to calculate the middle wi...   \n",
      "13  At 2:25, are guardian figures like there exclu...   \n",
      "3   Pagodas are almost always of odd numbers, poss...   \n",
      "14      how big are the temples and where are they at   \n",
      "4   Why are the eaves or the temples sticking out ...   \n",
      "15  At 1:41, what materials did they use to make t...   \n",
      "\n",
      "                        authorKaid  answerCount  replyCount  \\\n",
      "0    kaid_242338940416805013678006            3           0   \n",
      "6    kaid_819101114198704465706980            1           0   \n",
      "1    kaid_431267364185283302536347            0           0   \n",
      "12  kaid_1135066558340228137091505            0           0   \n",
      "2    kaid_713858679982101860216833            0           0   \n",
      "13   kaid_651326781736182613546557            0           0   \n",
      "3   kaid_1055297580865890977400015            0           1   \n",
      "14   kaid_265222005907826273445205            0           0   \n",
      "4    kaid_321962000752442001275392            1           0   \n",
      "15   kaid_745450027598856857256852            0           0   \n",
      "\n",
      "                    date  sumVotesIncremented qualityKind  \\\n",
      "0   2014-03-26T06:07:59Z                    3      normal   \n",
      "6   2014-03-30T14:38:22Z                    1      normal   \n",
      "1   2014-08-03T09:08:58Z                    5      normal   \n",
      "12  2015-01-06T20:07:29Z                    1      normal   \n",
      "2   2014-03-26T16:03:51Z                    3      normal   \n",
      "13  2015-01-08T06:24:43Z                    1      normal   \n",
      "3   2014-09-02T02:57:40Z                    2      normal   \n",
      "14  2014-05-04T20:21:15Z                    1      normal   \n",
      "4   2014-04-10T01:11:09Z                    3      normal   \n",
      "15  2014-04-30T10:26:23Z                    1      normal   \n",
      "\n",
      "                                     replyTo hasVotes  \n",
      "0                                        NaN     True  \n",
      "6                                        NaN    False  \n",
      "1   33ae6dffe9efdf1bba47412945f3f96ee85e39f7     True  \n",
      "12  f31d0b3829cdbc3bfe27bd8ff9b936fa29684c34    False  \n",
      "2   33ae6dffe9efdf1bba47412945f3f96ee85e39f7     True  \n",
      "13                                       NaN    False  \n",
      "3   33ae6dffe9efdf1bba47412945f3f96ee85e39f7     True  \n",
      "14                                       NaN    False  \n",
      "4                                        NaN     True  \n",
      "15                                       NaN    False  \n"
     ]
    }
   ],
   "source": [
    "def transform_scores(data):\n",
    "    # Turn `sumVotesIncremented` into a binary variable\n",
    "    data[\"hasVotes\"] = data[\"sumVotesIncremented\"] > 1\n",
    "\n",
    "    # Count positives\n",
    "    positive_count = np.sum(data[\"hasVotes\"])\n",
    "    print \"%d / %d comments have votes\" % (positive_count, len(data))\n",
    "\n",
    "    # Generate a balanced set, interleaved TFTF... so we can easily\n",
    "    # create balanced training/test sets by taking slices\n",
    "    positive_indices = np.where(data[\"hasVotes\"] == True)[0]\n",
    "    negative_indices = np.where(data[\"hasVotes\"] == False)[0]\n",
    "    balanced_indices = [val for pair in zip(positive_indices, negative_indices[:len(positive_indices)]) for val in pair]\n",
    "    print \"%d balanced indices\" % len(balanced_indices)\n",
    "\n",
    "    return data.iloc[balanced_indices]\n",
    "    \n",
    "balanced_comments = transform_scores(comments)\n",
    "\n",
    "VALIDATE_SIZE = 5000\n",
    "TEST_SIZE = 5000\n",
    "TRAIN_SIZE = len(balanced_comments) - VALIDATE_SIZE - TEST_SIZE\n",
    "print \"Training set %d, Validate set %d, Test set 5000 %d\" % (TRAIN_SIZE, VALIDATE_SIZE, TEST_SIZE)\n",
    "\n",
    "print balanced_comments[:10] \n"
   ]
  },
  {
   "cell_type": "code",
   "execution_count": 8,
   "metadata": {
    "collapsed": false,
    "scrolled": true
   },
   "outputs": [
    {
     "name": "stdout",
     "output_type": "stream",
     "text": [
      "Vectorizing vec-tfidf-1...\n",
      "Vocab size 3258\n"
     ]
    },
    {
     "ename": "IOError",
     "evalue": "[Errno 2] No such file or directory: '/Users/koza/Documents/UCBerkeley/266/FinalProject/model-data/vec-tfidf-1.pickle'",
     "output_type": "error",
     "traceback": [
      "\u001b[0;31m---------------------------------------------------------------------------\u001b[0m",
      "\u001b[0;31mIOError\u001b[0m                                   Traceback (most recent call last)",
      "\u001b[0;32m<ipython-input-8-eaf1f312268a>\u001b[0m in \u001b[0;36m<module>\u001b[0;34m()\u001b[0m\n\u001b[1;32m     23\u001b[0m \u001b[0;31m# 1-grams\u001b[0m\u001b[0;34m\u001b[0m\u001b[0;34m\u001b[0m\u001b[0m\n\u001b[1;32m     24\u001b[0m vectorize(\"vec-tfidf-1\", TfidfVectorizer(min_df=0.0005),\n\u001b[0;32m---> 25\u001b[0;31m           balanced_comments, TRAIN_SIZE, VALIDATE_SIZE, TEST_SIZE)\n\u001b[0m\u001b[1;32m     26\u001b[0m \u001b[0;34m\u001b[0m\u001b[0m\n\u001b[1;32m     27\u001b[0m \u001b[0;31m# 2-grams\u001b[0m\u001b[0;34m\u001b[0m\u001b[0;34m\u001b[0m\u001b[0m\n",
      "\u001b[0;32m<ipython-input-8-eaf1f312268a>\u001b[0m in \u001b[0;36mvectorize\u001b[0;34m(data_name, vectorizer, data, train_size, validate_size, test_size)\u001b[0m\n\u001b[1;32m     18\u001b[0m     \u001b[0mmodel\u001b[0m\u001b[0;34m[\u001b[0m\u001b[0;34m'Y_test'\u001b[0m\u001b[0;34m]\u001b[0m \u001b[0;34m=\u001b[0m \u001b[0mcomments\u001b[0m\u001b[0;34m[\u001b[0m\u001b[0;34m\"hasVotes\"\u001b[0m\u001b[0;34m]\u001b[0m\u001b[0;34m[\u001b[0m\u001b[0mtrain_size\u001b[0m\u001b[0;34m+\u001b[0m\u001b[0mvalidate_size\u001b[0m\u001b[0;34m:\u001b[0m\u001b[0mtrain_size\u001b[0m\u001b[0;34m+\u001b[0m\u001b[0mvalidate_size\u001b[0m\u001b[0;34m+\u001b[0m\u001b[0mtest_size\u001b[0m\u001b[0;34m]\u001b[0m\u001b[0;34m\u001b[0m\u001b[0m\n\u001b[1;32m     19\u001b[0m \u001b[0;34m\u001b[0m\u001b[0m\n\u001b[0;32m---> 20\u001b[0;31m     \u001b[0;32mwith\u001b[0m \u001b[0mopen\u001b[0m\u001b[0;34m(\u001b[0m\u001b[0mmodel_dir\u001b[0m\u001b[0;34m+\u001b[0m\u001b[0;34m\"%s.pickle\"\u001b[0m \u001b[0;34m%\u001b[0m \u001b[0mdata_name\u001b[0m\u001b[0;34m,\u001b[0m \u001b[0;34m\"wb\"\u001b[0m\u001b[0;34m)\u001b[0m \u001b[0;32mas\u001b[0m \u001b[0mf\u001b[0m\u001b[0;34m:\u001b[0m\u001b[0;34m\u001b[0m\u001b[0m\n\u001b[0m\u001b[1;32m     21\u001b[0m         \u001b[0mpickle\u001b[0m\u001b[0;34m.\u001b[0m\u001b[0mdump\u001b[0m\u001b[0;34m(\u001b[0m\u001b[0mmodel\u001b[0m\u001b[0;34m,\u001b[0m \u001b[0mf\u001b[0m\u001b[0;34m)\u001b[0m\u001b[0;34m\u001b[0m\u001b[0m\n\u001b[1;32m     22\u001b[0m \u001b[0;34m\u001b[0m\u001b[0m\n",
      "\u001b[0;31mIOError\u001b[0m: [Errno 2] No such file or directory: '/Users/koza/Documents/UCBerkeley/266/FinalProject/model-data/vec-tfidf-1.pickle'"
     ]
    }
   ],
   "source": [
    "from sklearn.feature_extraction.text import TfidfVectorizer\n",
    "from sklearn.random_projection import GaussianRandomProjection\n",
    "\n",
    "def vectorize(data_name, vectorizer, data, train_size, validate_size, test_size):\n",
    "    print \"Vectorizing %s...\" % data_name\n",
    "\n",
    "    model = {}\n",
    "    \n",
    "    model['X_train'] = vectorizer.fit_transform(comments[\"content\"][:train_size])\n",
    "    model['Y_train'] = comments[\"hasVotes\"][:train_size]\n",
    "    \n",
    "    print \"Vocab size %d\" % len(vectorizer.vocabulary_)\n",
    "        \n",
    "    model['X_validate'] = vectorizer.transform(comments[\"content\"][train_size:train_size+validate_size])\n",
    "    model['Y_validate'] = comments[\"hasVotes\"][train_size:train_size+validate_size]\n",
    "    \n",
    "    model['X_test'] = vectorizer.transform(comments[\"content\"][train_size+validate_size:train_size+validate_size+test_size])\n",
    "    model['Y_test'] = comments[\"hasVotes\"][train_size+validate_size:train_size+validate_size+test_size]\n",
    "    \n",
    "    with open(model_dir+\"%s.pickle\" % data_name, \"wb\") as f:\n",
    "        pickle.dump(model, f)\n",
    "\n",
    "# 1-grams\n",
    "vectorize(\"vec-tfidf-1\", TfidfVectorizer(min_df=0.0005),\n",
    "          balanced_comments, TRAIN_SIZE, VALIDATE_SIZE, TEST_SIZE)\n",
    "\n",
    "# 2-grams\n",
    "vectorize(\"vec-tfidf-2\", TfidfVectorizer(min_df=0.0005, ngram_range=(1,2)),\n",
    "          balanced_comments, TRAIN_SIZE, VALIDATE_SIZE, TEST_SIZE)\n",
    "\n",
    "# 3-grams\n",
    "vectorize(\"vec-tfidf-3\", TfidfVectorizer(min_df=0.0005, ngram_range=(1,3)),\n",
    "          balanced_comments, TRAIN_SIZE, VALIDATE_SIZE, TEST_SIZE)\n",
    "\n",
    "print \"Done.\"\n"
   ]
  },
  {
   "cell_type": "code",
   "execution_count": null,
   "metadata": {
    "collapsed": false
   },
   "outputs": [],
   "source": [
    "from sklearn.naive_bayes import MultinomialNB\n",
    "from sklearn.neural_network import MLPClassifier\n",
    "from sklearn.svm import LinearSVC\n",
    "\n",
    "def load_model(data_name):\n",
    "    with open(\"/usr/src/app/model-data/%s.pickle\" % data_name, \"rb\") as f:\n",
    "        return pickle.load(f)\n",
    "\n",
    "def fit_models(data_names, model_types):\n",
    "    for data_name in data_names:\n",
    "        print \"Loading model %s...\" % data_name\n",
    "        data_model = load_model(data_name)\n",
    "        print np.shape(data_model['X_train'])\n",
    "\n",
    "        print \"Training models.\"\n",
    "        for model_name, model in model_types:\n",
    "            model.fit(data_model['X_train'], data_model['Y_train'])\n",
    "            score = model.score(data_model['X_validate'], data_model['Y_validate'])\n",
    "            print \"## %20s %15s accuracy: %0.1f %%\" % (model_name, data_name, score * 100)\n",
    "    \n",
    "fit_models([\"vec-tfidf-1\", \"vec-tfidf-2\", \"vec-tfidf-3\"], [\n",
    "    [\"MultinomialNB\", MultinomialNB()],\n",
    "    [\"LinearSVC\", LinearSVC()],\n",
    "    [\"MLP\", MLPClassifier(hidden_layer_sizes=(20,20), early_stopping=True)],\n",
    "])\n"
   ]
  },
  {
   "cell_type": "code",
   "execution_count": null,
   "metadata": {
    "collapsed": true
   },
   "outputs": [],
   "source": []
  },
  {
   "cell_type": "code",
   "execution_count": null,
   "metadata": {
    "collapsed": true
   },
   "outputs": [],
   "source": []
  }
 ],
 "metadata": {
  "kernelspec": {
   "display_name": "Python 2",
   "language": "python",
   "name": "python2"
  },
  "language_info": {
   "codemirror_mode": {
    "name": "ipython",
    "version": 2
   },
   "file_extension": ".py",
   "mimetype": "text/x-python",
   "name": "python",
   "nbconvert_exporter": "python",
   "pygments_lexer": "ipython2",
   "version": "2.7.11"
  }
 },
 "nbformat": 4,
 "nbformat_minor": 1
}
