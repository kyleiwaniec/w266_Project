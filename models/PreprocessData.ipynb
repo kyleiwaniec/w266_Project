{
 "cells": [
  {
   "cell_type": "code",
   "execution_count": 25,
   "metadata": {
    "collapsed": true
   },
   "outputs": [],
   "source": [
    "%matplotlib inline"
   ]
  },
  {
   "cell_type": "code",
   "execution_count": 1,
   "metadata": {
    "collapsed": false
   },
   "outputs": [
    {
     "name": "stderr",
     "output_type": "stream",
     "text": [
      "/usr/local/lib/python2.7/dist-packages/matplotlib/font_manager.py:273: UserWarning: Matplotlib is building the font cache using fc-list. This may take a moment.\n",
      "  warnings.warn('Matplotlib is building the font cache using fc-list. This may take a moment.')\n"
     ]
    }
   ],
   "source": [
    "import datetime\n",
    "import math\n",
    "import pickle\n",
    "\n",
    "import numpy as np\n",
    "import pandas as pd\n",
    "import matplotlib.pyplot as plt"
   ]
  },
  {
   "cell_type": "code",
   "execution_count": 2,
   "metadata": {
    "collapsed": false
   },
   "outputs": [
    {
     "name": "stdout",
     "output_type": "stream",
     "text": [
      "Total size: 1145440\n",
      "                  video                                        id  \\\n",
      "0  ancient-temples-nara  33ae6dffe9efdf1bba47412945f3f96ee85e39f7   \n",
      "1  ancient-temples-nara  ea997873e7cd069c8a6bf2f14809950ac237001c   \n",
      "2  ancient-temples-nara  61b80f281d1ac24d102535496ad3a963e226cdeb   \n",
      "3  ancient-temples-nara  49349c01d95f512a04da8f32d54e4aa22d7ec8a9   \n",
      "4  ancient-temples-nara  847d456003e470c236375a5195d87dc94b46cfc1   \n",
      "5  ancient-temples-nara  348392e7888687e821de048609cace4a08da4e18   \n",
      "6  ancient-temples-nara  58f2adc07ebca4285963c55b2736449f900458bd   \n",
      "7  ancient-temples-nara  96ca02013d5c2bfe8a1bc29932764a3484d47979   \n",
      "8  ancient-temples-nara  a0c8b56cac318667d2a8aa124b63ff1d00f97fb0   \n",
      "9  ancient-temples-nara  dac041cb6faff46c806323837292d153b478c4b6   \n",
      "\n",
      "                                             content  \\\n",
      "0  Why does the pagoda have 5 stories? Wouldn't t...   \n",
      "1  5 stories represent  5 elements make up our wo...   \n",
      "2  Because it's easier to calculate the middle wi...   \n",
      "3  Pagodas are almost always of odd numbers, poss...   \n",
      "4  Why are the eaves or the temples sticking out ...   \n",
      "5  The eaves were made that large to give the int...   \n",
      "6  At 2:25 there some massive guardian figures.\\n...   \n",
      "7  They are Buddha's guardians, Niō\\nhttp://en.wi...   \n",
      "8  At around 0:43 he said that this was founded b...   \n",
      "9  Seventh Century A.D. http://en.wikipedia.org/w...   \n",
      "\n",
      "                       authorKaid  answerCount  replyCount  \\\n",
      "0   kaid_242338940416805013678006            3           0   \n",
      "1   kaid_431267364185283302536347            0           0   \n",
      "2   kaid_713858679982101860216833            0           0   \n",
      "3  kaid_1055297580865890977400015            0           1   \n",
      "4   kaid_321962000752442001275392            1           0   \n",
      "5   kaid_632690024402491469324740            0           0   \n",
      "6   kaid_819101114198704465706980            1           0   \n",
      "7   kaid_406594814946243496297252            0           1   \n",
      "8   kaid_819101114198704465706980            1           0   \n",
      "9   kaid_278736331476769291575060            0           1   \n",
      "\n",
      "                   date  sumVotesIncremented qualityKind  \\\n",
      "0  2014-03-26T06:07:59Z                    3      normal   \n",
      "1  2014-08-03T09:08:58Z                    5      normal   \n",
      "2  2014-03-26T16:03:51Z                    3      normal   \n",
      "3  2014-09-02T02:57:40Z                    2      normal   \n",
      "4  2014-04-10T01:11:09Z                    3      normal   \n",
      "5  2014-04-10T22:37:29Z                    3      normal   \n",
      "6  2014-03-30T14:38:22Z                    1      normal   \n",
      "7  2014-04-07T07:09:37Z                    4      normal   \n",
      "8  2014-03-30T14:35:46Z                    2      normal   \n",
      "9  2014-04-02T05:26:42Z                    2      normal   \n",
      "\n",
      "                                    replyTo  \n",
      "0                                       NaN  \n",
      "1  33ae6dffe9efdf1bba47412945f3f96ee85e39f7  \n",
      "2  33ae6dffe9efdf1bba47412945f3f96ee85e39f7  \n",
      "3  33ae6dffe9efdf1bba47412945f3f96ee85e39f7  \n",
      "4                                       NaN  \n",
      "5  847d456003e470c236375a5195d87dc94b46cfc1  \n",
      "6                                       NaN  \n",
      "7  58f2adc07ebca4285963c55b2736449f900458bd  \n",
      "8                                       NaN  \n",
      "9  a0c8b56cac318667d2a8aa124b63ff1d00f97fb0  \n"
     ]
    }
   ],
   "source": [
    "comments = pd.read_csv(\"/usr/src/app/data/ka-comments.csv\")\n",
    "\n",
    "print \"Total size: %d\" % len(comments)\n",
    "\n",
    "print comments[:10]"
   ]
  },
  {
   "cell_type": "code",
   "execution_count": 3,
   "metadata": {
    "collapsed": false
   },
   "outputs": [
    {
     "data": {
      "image/png": "[encoded data removed]",
      "text/plain": [
       "<matplotlib.figure.Figure at 0x7f1d676cf350>"
      ]
     },
     "metadata": {},
     "output_type": "display_data"
    }
   ],
   "source": [
    "plt.hist(comments[\"sumVotesIncremented\"], 100, facecolor='green', log=True, alpha=0.75)\n",
    "plt.show()"
   ]
  },
  {
   "cell_type": "code",
   "execution_count": 4,
   "metadata": {
    "collapsed": false
   },
   "outputs": [
    {
     "data": {
      "text/plain": [
       "count    1.145440e+06\n",
       "mean     1.787104e+00\n",
       "std      6.694298e+00\n",
       "min      0.000000e+00\n",
       "25%      1.000000e+00\n",
       "50%      1.000000e+00\n",
       "75%      1.000000e+00\n",
       "max      1.115000e+03\n",
       "Name: sumVotesIncremented, dtype: float64"
      ]
     },
     "execution_count": 4,
     "metadata": {},
     "output_type": "execute_result"
    }
   ],
   "source": [
    "comments[\"sumVotesIncremented\"].describe()"
   ]
  },
  {
   "cell_type": "code",
   "execution_count": 20,
   "metadata": {
    "collapsed": false
   },
   "outputs": [],
   "source": [
    "# Turn `sumVotesIncremented` into a binary variable\n",
    "comments[\"hasVotes\"] = comments[\"sumVotesIncremented\"] > 1\n",
    "comments[\"date\"] = np.array(comments[\"date\"], dtype=\"datetime64\")\n",
    "comments[\"daysAgo\"] = pd.Series((comments[\"date\"] - max(comments[\"date\"])).astype('timedelta64[D]'))"
   ]
  },
  {
   "cell_type": "code",
   "execution_count": 21,
   "metadata": {
    "collapsed": false
   },
   "outputs": [
    {
     "data": {
      "image/png": "[encoded data removed]",
      "text/plain": [
       "<matplotlib.figure.Figure at 0x7f1d6612c290>"
      ]
     },
     "metadata": {},
     "output_type": "display_data"
    }
   ],
   "source": [
    "def has_votes_by_date():\n",
    "    dataframe = pd.DataFrame({\n",
    "        \"daysAgo\": comments[\"daysAgo\"],\n",
    "        \"hasVotes\": comments[\"hasVotes\"].astype('int'),\n",
    "    })\n",
    "    votes_by_date = dataframe[dataframe[\"daysAgo\"] > -120].groupby(\"daysAgo\", as_index=False).mean()\n",
    "    plt.bar(votes_by_date[\"daysAgo\"], votes_by_date[\"hasVotes\"])\n",
    "    plt.show()\n",
    "    \n",
    "has_votes_by_date()"
   ]
  },
  {
   "cell_type": "code",
   "execution_count": 22,
   "metadata": {
    "collapsed": false
   },
   "outputs": [],
   "source": [
    "def transform_scores(data, dataset_name):\n",
    "    # Count positives\n",
    "    positive_count = np.sum(data[\"hasVotes\"])\n",
    "    print \"%d / %d comments have votes\" % (positive_count, len(data))\n",
    "\n",
    "    # Generate a balanced set, interleaved TFTF... so we can easily\n",
    "    # create balanced training/test sets by taking slices\n",
    "    positive_indices = np.where(data[\"hasVotes\"] == True)[0]\n",
    "    negative_indices = np.where(data[\"hasVotes\"] == False)[0]\n",
    "    balanced_indices = [\n",
    "        val\n",
    "        for pair in zip(positive_indices, negative_indices[:len(positive_indices)])\n",
    "        for val in pair]\n",
    "    print \"%d balanced indices\" % len(balanced_indices)\n",
    "\n",
    "    balanced_dataset = data.iloc[balanced_indices]\n",
    "\n",
    "    validate_size = 5000\n",
    "    test_size = 5000\n",
    "    train_size = len(balanced_dataset) - validate_size - test_size\n",
    "    print \"%s: Training set %d, Validate set %d, Test set %d\" % (\n",
    "        dataset_name, train_size, validate_size, test_size)\n",
    "\n",
    "    dataset = {\n",
    "        \"train_data\": balanced_dataset.iloc[:train_size],\n",
    "        \"validate_data\": balanced_dataset.iloc[train_size:train_size+validate_size],\n",
    "        \"test_data\": balanced_dataset.iloc[train_size+validate_size:train_size+validate_size+test_size],\n",
    "    }\n",
    "\n",
    "    with open(\"/usr/src/app/data/%s.pickle\" % dataset_name, \"wb\") as f:\n",
    "        pickle.dump(dataset, f)\n",
    "        \n",
    "    print \"Done.\"\n",
    "        \n",
    "    return dataset"
   ]
  },
  {
   "cell_type": "code",
   "execution_count": 23,
   "metadata": {
    "collapsed": false
   },
   "outputs": [
    {
     "name": "stdout",
     "output_type": "stream",
     "text": [
      "249120 / 1102972 comments have votes\n",
      "498240 balanced indices\n",
      "ka-comments-balanced: Training set 488240, Validate set 5000, Test set 5000\n",
      "Done.\n"
     ]
    }
   ],
   "source": [
    "_ = transform_scores(comments[comments[\"daysAgo\"] < -50], \"ka-comments-balanced\")"
   ]
  },
  {
   "cell_type": "code",
   "execution_count": 26,
   "metadata": {
    "collapsed": false
   },
   "outputs": [
    {
     "name": "stdout",
     "output_type": "stream",
     "text": [
      "159108 / 575025 comments have votes\n",
      "318216 balanced indices\n",
      "ka-replies-balanced: Training set 308216, Validate set 5000, Test set 5000\n",
      "Done.\n"
     ]
    }
   ],
   "source": [
    "def get_replies(comments):\n",
    "    replies = comments[comments[\"replyTo\"].astype(str) != \"nan\"]\n",
    "    replies_joined = pd.merge(replies, comments, how=\"left\", left_on=[\"replyTo\"], right_on=[\"id\"],\n",
    "                              suffixes=(\"\", \"_parent\"))\n",
    "    return replies_joined\n",
    "\n",
    "_ = transform_scores(get_replies(comments[comments[\"daysAgo\"] < -50]), \"ka-replies-balanced\")"
   ]
  },
  {
   "cell_type": "code",
   "execution_count": null,
   "metadata": {
    "collapsed": true
   },
   "outputs": [],
   "source": []
  },
  {
   "cell_type": "code",
   "execution_count": null,
   "metadata": {
    "collapsed": true
   },
   "outputs": [],
   "source": []
  }
 ],
 "metadata": {
  "kernelspec": {
   "display_name": "Python 2",
   "language": "python",
   "name": "python2"
  },
  "language_info": {
   "codemirror_mode": {
    "name": "ipython",
    "version": 2
   },
   "file_extension": ".py",
   "mimetype": "text/x-python",
   "name": "python",
   "nbconvert_exporter": "python",
   "pygments_lexer": "ipython2",
   "version": "2.7.12"
  }
 },
 "nbformat": 4,
 "nbformat_minor": 1
}
