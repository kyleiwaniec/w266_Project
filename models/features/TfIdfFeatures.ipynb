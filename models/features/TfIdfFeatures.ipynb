{
 "cells": [
  {
   "cell_type": "code",
   "execution_count": 2,
   "metadata": {
    "collapsed": false
   },
   "outputs": [
    {
     "data": {
      "text/plain": [
       "<module 'common' from 'common.pyc'>"
      ]
     },
     "execution_count": 2,
     "metadata": {},
     "output_type": "execute_result"
    }
   ],
   "source": [
    "import numpy as np\n",
    "\n",
    "import common\n",
    "reload(common)"
   ]
  },
  {
   "cell_type": "code",
   "execution_count": 4,
   "metadata": {
    "collapsed": true
   },
   "outputs": [],
   "source": [
    "from sklearn.feature_extraction.text import TfidfVectorizer\n",
    "\n",
    "class TfIdfFeatureExtractor(object):\n",
    "    def __init__(self, ngram, min_df):\n",
    "        self.vectorizer = TfidfVectorizer(min_df=min_df, ngram_range=(1,ngram), stop_words=\"english\")\n",
    "        \n",
    "    def train(self, train_data):\n",
    "        features = self.vectorizer.fit_transform(train_data[\"content\"])\n",
    "        print \"Vocab size %d\" % len(self.vectorizer.vocabulary_)\n",
    "        return features\n",
    "        \n",
    "    def transform(self, test_data):\n",
    "        return self.vectorizer.transform(test_data[\"content\"])"
   ]
  },
  {
   "cell_type": "code",
   "execution_count": 29,
   "metadata": {
    "collapsed": false
   },
   "outputs": [
    {
     "name": "stdout",
     "output_type": "stream",
     "text": [
      "Loading ka-comments-balanced dataset.\n",
      "Training feature extractor all-tfidf-1.\n",
      "Vocab size 64542\n",
      "Generating validation set...\n",
      "Generating test set...\n",
      "Writing to disk...\n",
      "Done.\n"
     ]
    }
   ],
   "source": [
    "common.extract_features(\"ka-comments-balanced\", TfIdfFeatureExtractor(1, 2), \"all-tfidf-1\")"
   ]
  },
  {
   "cell_type": "code",
   "execution_count": 6,
   "metadata": {
    "collapsed": false
   },
   "outputs": [
    {
     "name": "stdout",
     "output_type": "stream",
     "text": [
      "Loading features all-tfidf-1.\n",
      "Training models.\n",
      "##        MultinomialNB     all-tfidf-1 precision: 61.6% recall: 64.7%\n",
      "##            LinearSVC     all-tfidf-1 precision: 62.1% recall: 63.2%\n",
      "##                  MLP     all-tfidf-1 precision: 62.7% recall: 64.7%\n",
      "##                 MLP2     all-tfidf-1 precision: 63.0% recall: 64.1%\n"
     ]
    }
   ],
   "source": [
    "common.test_features(\"all-tfidf-1\")"
   ]
  },
  {
   "cell_type": "code",
   "execution_count": 31,
   "metadata": {
    "collapsed": false
   },
   "outputs": [
    {
     "name": "stdout",
     "output_type": "stream",
     "text": [
      "Training feature extractor all-tfidf-2.\n",
      "Vocab size 181329\n",
      "Generating validation set...\n",
      "Generating test set...\n",
      "Writing to disk...\n",
      "Done.\n"
     ]
    }
   ],
   "source": [
    "common.extract_features(\"ka-comments-balanced\", TfIdfFeatureExtractor(2, 6), \"all-tfidf-2\")"
   ]
  },
  {
   "cell_type": "code",
   "execution_count": 7,
   "metadata": {
    "collapsed": false
   },
   "outputs": [
    {
     "name": "stdout",
     "output_type": "stream",
     "text": [
      "Loading features all-tfidf-2.\n",
      "Training models.\n",
      "##        MultinomialNB     all-tfidf-2 precision: 60.7% recall: 68.1%\n",
      "##            LinearSVC     all-tfidf-2 precision: 58.8% recall: 62.0%\n",
      "##                  MLP     all-tfidf-2 precision: 63.3% recall: 63.3%\n",
      "##                 MLP2     all-tfidf-2 precision: 61.3% recall: 68.4%\n"
     ]
    }
   ],
   "source": [
    "common.test_features(\"all-tfidf-2\")"
   ]
  },
  {
   "cell_type": "code",
   "execution_count": 33,
   "metadata": {
    "collapsed": false
   },
   "outputs": [
    {
     "name": "stdout",
     "output_type": "stream",
     "text": [
      "Loading ka-replies-balanced dataset.\n",
      "Training feature extractor reply-tfidf-1.\n",
      "Vocab size 56396\n",
      "Generating validation set...\n",
      "Generating test set...\n",
      "Writing to disk...\n",
      "Done.\n"
     ]
    }
   ],
   "source": [
    "common.extract_features(\"ka-replies-balanced\", TfIdfFeatureExtractor(1, 2), \"reply-tfidf-1\")"
   ]
  },
  {
   "cell_type": "code",
   "execution_count": 8,
   "metadata": {
    "collapsed": false
   },
   "outputs": [
    {
     "name": "stdout",
     "output_type": "stream",
     "text": [
      "Loading features reply-tfidf-1.\n",
      "Training models.\n",
      "##        MultinomialNB   reply-tfidf-1 precision: 61.0% recall: 63.8%\n",
      "##            LinearSVC   reply-tfidf-1 precision: 61.3% recall: 60.6%\n",
      "##                  MLP   reply-tfidf-1 precision: 62.5% recall: 67.0%\n",
      "##                 MLP2   reply-tfidf-1 precision: 62.1% recall: 63.6%\n"
     ]
    }
   ],
   "source": [
    "common.test_features(\"reply-tfidf-1\")"
   ]
  },
  {
   "cell_type": "code",
   "execution_count": 35,
   "metadata": {
    "collapsed": false
   },
   "outputs": [
    {
     "name": "stdout",
     "output_type": "stream",
     "text": [
      "Training feature extractor reply-tfidf-2.\n",
      "Vocab size 145427\n",
      "Generating validation set...\n",
      "Generating test set...\n",
      "Writing to disk...\n",
      "Done.\n"
     ]
    }
   ],
   "source": [
    "common.extract_features(\"ka-replies-balanced\", TfIdfFeatureExtractor(2, 6), \"reply-tfidf-2\")"
   ]
  },
  {
   "cell_type": "code",
   "execution_count": 9,
   "metadata": {
    "collapsed": false
   },
   "outputs": [
    {
     "name": "stdout",
     "output_type": "stream",
     "text": [
      "Loading features reply-tfidf-2.\n",
      "Training models.\n",
      "##        MultinomialNB   reply-tfidf-2 precision: 60.4% recall: 66.1%\n",
      "##            LinearSVC   reply-tfidf-2 precision: 59.2% recall: 61.6%\n",
      "##                  MLP   reply-tfidf-2 precision: 61.9% recall: 68.2%\n",
      "##                 MLP2   reply-tfidf-2 precision: 62.1% recall: 63.6%\n"
     ]
    }
   ],
   "source": [
    "common.test_features(\"reply-tfidf-2\")"
   ]
  },
  {
   "cell_type": "code",
   "execution_count": 37,
   "metadata": {
    "collapsed": true
   },
   "outputs": [],
   "source": [
    "import numpy as np\n",
    "from sklearn.feature_extraction.text import TfidfVectorizer\n",
    "from sklearn.metrics.pairwise import paired_cosine_distances\n",
    "\n",
    "class TfIdfSimilarityExtractor(object):\n",
    "    def __init__(self, ngram, min_df):\n",
    "        self.vectorizer = TfidfVectorizer(min_df=min_df, ngram_range=(1,ngram), stop_words=\"english\")\n",
    "        \n",
    "    def train(self, train_data):\n",
    "        self.vectorizer.fit(np.hstack((train_data[\"content\"], train_data[\"content_parent\"])))\n",
    "        print \"Vocab size %d\" % len(self.vectorizer.vocabulary_)\n",
    "        \n",
    "        features_reply = self.vectorizer.transform(train_data[\"content\"])\n",
    "        features_parent = self.vectorizer.transform(train_data[\"content_parent\"])\n",
    "        \n",
    "        d = paired_cosine_distances(features_reply, features_parent)\n",
    "        d = np.reshape(d, (np.shape(d)[0],1))\n",
    "        return d\n",
    "        \n",
    "    def transform(self, test_data):\n",
    "        features_reply = self.vectorizer.transform(test_data[\"content\"])\n",
    "        features_parent = self.vectorizer.transform(test_data[\"content_parent\"])\n",
    "        \n",
    "        d = paired_cosine_distances(features_reply, features_parent)\n",
    "        d = np.reshape(d, (np.shape(d)[0],1))\n",
    "        return d"
   ]
  },
  {
   "cell_type": "code",
   "execution_count": 38,
   "metadata": {
    "collapsed": false
   },
   "outputs": [
    {
     "name": "stdout",
     "output_type": "stream",
     "text": [
      "Training feature extractor diff-tfidf-1.\n",
      "Vocab size 70230\n",
      "Generating validation set...\n",
      "Generating test set...\n",
      "Writing to disk...\n",
      "Done.\n"
     ]
    }
   ],
   "source": [
    "common.extract_features(\"ka-replies-balanced\", TfIdfSimilarityExtractor(1, 2), \"diff-tfidf-1\")"
   ]
  },
  {
   "cell_type": "code",
   "execution_count": 10,
   "metadata": {
    "collapsed": false
   },
   "outputs": [
    {
     "name": "stdout",
     "output_type": "stream",
     "text": [
      "Loading features diff-tfidf-1.\n",
      "Training models.\n",
      "##        MultinomialNB    diff-tfidf-1 precision: 0.0% recall: 0.0%\n",
      "##            LinearSVC    diff-tfidf-1 precision: 53.8% recall: 48.8%\n",
      "##                  MLP    diff-tfidf-1 precision: 55.6% recall: 74.2%\n",
      "##                 MLP2    diff-tfidf-1 precision: 55.6% recall: 73.0%\n"
     ]
    }
   ],
   "source": [
    "common.test_features(\"diff-tfidf-1\")"
   ]
  },
  {
   "cell_type": "code",
   "execution_count": 40,
   "metadata": {
    "collapsed": false
   },
   "outputs": [
    {
     "name": "stdout",
     "output_type": "stream",
     "text": [
      "Training feature extractor diff-tfidf-2.\n",
      "Vocab size 228695\n",
      "Generating validation set...\n",
      "Generating test set...\n",
      "Writing to disk...\n",
      "Done.\n"
     ]
    }
   ],
   "source": [
    "common.extract_features(\"ka-replies-balanced\", TfIdfSimilarityExtractor(2, 6), \"diff-tfidf-2\")"
   ]
  },
  {
   "cell_type": "code",
   "execution_count": 11,
   "metadata": {
    "collapsed": false
   },
   "outputs": [
    {
     "name": "stdout",
     "output_type": "stream",
     "text": [
      "Loading features diff-tfidf-2.\n",
      "Training models.\n",
      "##        MultinomialNB    diff-tfidf-2 precision: 0.0% recall: 0.0%\n",
      "##            LinearSVC    diff-tfidf-2 precision: 53.7% recall: 44.8%\n",
      "##                  MLP    diff-tfidf-2 precision: 55.7% recall: 65.6%\n",
      "##                 MLP2    diff-tfidf-2 precision: 57.2% recall: 67.5%\n"
     ]
    }
   ],
   "source": [
    "common.test_features(\"diff-tfidf-2\")"
   ]
  },
  {
   "cell_type": "code",
   "execution_count": 12,
   "metadata": {
    "collapsed": false
   },
   "outputs": [
    {
     "name": "stdout",
     "output_type": "stream",
     "text": [
      "Loading features diff-tfidf-2.\n",
      "Loading features reply-tfidf-2.\n",
      "Combining features: (308216, 1) + (308216, 145427)\n",
      "Training models.\n",
      "##        MultinomialNB diff-tfidf-2_reply-tfidf-2 precision: 61.8% recall: 65.1%\n",
      "##            LinearSVC diff-tfidf-2_reply-tfidf-2 precision: 59.2% recall: 61.5%\n",
      "##                  MLP diff-tfidf-2_reply-tfidf-2 precision: 61.5% recall: 66.1%\n",
      "##                 MLP2 diff-tfidf-2_reply-tfidf-2 precision: 62.3% recall: 65.1%\n"
     ]
    }
   ],
   "source": [
    "common.test_combined_features([\"diff-tfidf-2\", \"reply-tfidf-2\"])"
   ]
  },
  {
   "cell_type": "code",
   "execution_count": 5,
   "metadata": {
    "collapsed": false
   },
   "outputs": [
    {
     "name": "stdout",
     "output_type": "stream",
     "text": [
      "Loading ka-rank-balanced dataset.\n",
      "Training feature extractor rank-tfidf-1.\n",
      "Vocab size 60824\n",
      "Generating validation set...\n",
      "Generating test set...\n",
      "Writing to disk...\n",
      "Done.\n"
     ]
    }
   ],
   "source": [
    "reload(common)\n",
    "common.extract_features(\"ka-rank-balanced\", TfIdfFeatureExtractor(1, 2), \"rank-tfidf-1\")"
   ]
  },
  {
   "cell_type": "code",
   "execution_count": 13,
   "metadata": {
    "collapsed": false
   },
   "outputs": [
    {
     "name": "stdout",
     "output_type": "stream",
     "text": [
      "Loading features rank-tfidf-1.\n",
      "Training models.\n",
      "##        MultinomialNB    rank-tfidf-1 precision: 53.3% recall: 60.1%\n",
      "##            LinearSVC    rank-tfidf-1 precision: 51.2% recall: 43.9%\n",
      "##                  MLP    rank-tfidf-1 precision: 52.6% recall: 42.3%\n",
      "##                 MLP2    rank-tfidf-1 precision: 52.6% recall: 48.2%\n"
     ]
    }
   ],
   "source": [
    "common.test_features(\"rank-tfidf-1\")"
   ]
  },
  {
   "cell_type": "code",
   "execution_count": 7,
   "metadata": {
    "collapsed": false
   },
   "outputs": [
    {
     "name": "stdout",
     "output_type": "stream",
     "text": [
      "Training feature extractor rank-tfidf-2.\n",
      "Vocab size 158751\n",
      "Generating validation set...\n",
      "Generating test set...\n",
      "Writing to disk...\n",
      "Done.\n"
     ]
    }
   ],
   "source": [
    "common.extract_features(\"ka-rank-balanced\", TfIdfFeatureExtractor(2, 6), \"rank-tfidf-2\")"
   ]
  },
  {
   "cell_type": "code",
   "execution_count": 14,
   "metadata": {
    "collapsed": false
   },
   "outputs": [
    {
     "name": "stdout",
     "output_type": "stream",
     "text": [
      "Loading features rank-tfidf-2.\n",
      "Training models.\n",
      "##        MultinomialNB    rank-tfidf-2 precision: 54.0% recall: 56.5%\n",
      "##            LinearSVC    rank-tfidf-2 precision: 51.8% recall: 46.2%\n",
      "##                  MLP    rank-tfidf-2 precision: 52.3% recall: 46.8%\n",
      "##                 MLP2    rank-tfidf-2 precision: 51.5% recall: 41.2%\n"
     ]
    }
   ],
   "source": [
    "common.test_features(\"rank-tfidf-2\")"
   ]
  },
  {
   "cell_type": "code",
   "execution_count": 34,
   "metadata": {
    "collapsed": false
   },
   "outputs": [],
   "source": [
    "from sklearn.feature_extraction.text import TfidfVectorizer\n",
    "import scipy.sparse\n",
    "\n",
    "class TfIdfComparisonFeatureExtractor(object):\n",
    "    def __init__(self, ngram, min_df):\n",
    "        self.vectorizer = TfidfVectorizer(min_df=min_df, ngram_range=(1,ngram), stop_words=\"english\")\n",
    "        \n",
    "    def train(self, train_data):\n",
    "        content_concat = np.hstack((train_data[\"content_left\"], train_data[\"content_right\"]))\n",
    "        self.vectorizer.fit(content_concat)\n",
    "        \n",
    "        left = self.vectorizer.transform(train_data[\"content_left\"])\n",
    "        right = self.vectorizer.transform(train_data[\"content_right\"])\n",
    "        features = scipy.sparse.hstack((left, right))\n",
    "\n",
    "        print \"Vocab size %d\" % len(self.vectorizer.vocabulary_)\n",
    "        return features\n",
    "        \n",
    "    def transform(self, test_data):\n",
    "        return scipy.sparse.hstack((\n",
    "            self.vectorizer.transform(test_data[\"content_left\"]),\n",
    "            self.vectorizer.transform(test_data[\"content_right\"])))"
   ]
  },
  {
   "cell_type": "code",
   "execution_count": 35,
   "metadata": {
    "collapsed": false
   },
   "outputs": [
    {
     "name": "stdout",
     "output_type": "stream",
     "text": [
      "Training feature extractor binary-tfidf-1.\n",
      "Vocab size 108632\n",
      "Generating validation set...\n",
      "Generating test set...\n",
      "Writing to disk...\n",
      "Done.\n"
     ]
    }
   ],
   "source": [
    "common.extract_features(\"ka-binary\", TfIdfComparisonFeatureExtractor(1, 2), \"binary-tfidf-1\")"
   ]
  },
  {
   "cell_type": "code",
   "execution_count": null,
   "metadata": {
    "collapsed": false
   },
   "outputs": [
    {
     "name": "stdout",
     "output_type": "stream",
     "text": [
      "Loading features binary-tfidf-1.\n",
      "Training models.\n",
      "##        MultinomialNB  binary-tfidf-1 precision: 53.3% recall: 54.8%\n",
      "##            LinearSVC  binary-tfidf-1 precision: 53.8% recall: 55.7%\n",
      "##                  MLP  binary-tfidf-1 precision: 53.2% recall: 49.0%\n",
      "##                 MLP2  binary-tfidf-1 precision: 52.6% recall: 57.8%\n"
     ]
    }
   ],
   "source": [
    "common.test_features(\"binary-tfidf-1\")"
   ]
  },
  {
   "cell_type": "code",
   "execution_count": null,
   "metadata": {
    "collapsed": false
   },
   "outputs": [
    {
     "name": "stdout",
     "output_type": "stream",
     "text": [
      "Training feature extractor binary-tfidf-2.\n",
      "Vocab size 640047\n",
      "Generating validation set...\n",
      "Generating test set...\n",
      "Writing to disk...\n",
      "Done.\n"
     ]
    }
   ],
   "source": [
    "common.extract_features(\"ka-binary\", TfIdfComparisonFeatureExtractor(2, 6), \"binary-tfidf-2\")"
   ]
  },
  {
   "cell_type": "code",
   "execution_count": null,
   "metadata": {
    "collapsed": false
   },
   "outputs": [
    {
     "name": "stdout",
     "output_type": "stream",
     "text": [
      "Loading features binary-tfidf-2.\n",
      "Training models.\n",
      "##        MultinomialNB  binary-tfidf-2 precision: 54.0% recall: 55.2%\n"
     ]
    }
   ],
   "source": [
    "common.test_features(\"binary-tfidf-2\")"
   ]
  },
  {
   "cell_type": "code",
   "execution_count": 9,
   "metadata": {
    "collapsed": false
   },
   "outputs": [
    {
     "name": "stdout",
     "output_type": "stream",
     "text": [
      "Loading ka-rank-balanced dataset.\n",
      "Loading features rank-tfidf-1.\n",
      "Training model MultinomialNB.\n",
      "## True positives: 0.300400\n",
      "## True negatives: 0.236400\n",
      "## False positives: 0.263600\n",
      "## False negatives: 0.199600\n",
      "True positives:\n",
      "198779      what is the lowest common multiple of 68 and 120\n",
      "198780     The LCM of 68 and 120 is 2040.  To come to thi...\n",
      "223959                    This the the brain treaser at 6:46\n",
      "297269                       fun but impossible in real life\n",
      "376698     Is there an activity for us to practice lattic...\n",
      "446368                  a half is equivalent to two quarters\n",
      "446369     1/2 is the equivalent of 2/4 because 1/2 times...\n",
      "447079     Recognise whether the fraction are equivalent:...\n",
      "463389     4.27 why do we have to add 2 6 times becase we...\n",
      "508101     Yesterday, two friends went into a bank to ope...\n",
      "573406                            Can fractions be negative?\n",
      "728014     You have to to remove the blocks from the scal...\n",
      "749686     19 + 9 = 28 \\nOr you can do 19 + 10 = 29      ...\n",
      "940812                   Are we able to print out questions?\n",
      "979390     Is a fraction the same thing as a decimal, tec...\n",
      "993302     What is the number value of 9 in the number 90...\n",
      "993304                                         900 thousand.\n",
      "993451     What is the number value of 788,168.54 and the...\n",
      "993452     The 4 is in the hundreths ( notice the th inst...\n",
      "993453     What's the number value of the very last 3 in ...\n",
      "993454     3 thousandths because it is after the decimal ...\n",
      "993455               no, 0.003 it is in the thousands place.\n",
      "993456                             3 it's in the ones place.\n",
      "1037145    There's that island situation, about leaving i...\n",
      "1051001    how do you change a 'negative' fraction into a...\n",
      "Name: content, dtype: object\n",
      "True negatives:\n",
      "65321     It is easy to make a sound; raspy and harsh. B...\n",
      "65557     A concertmaster sits in the first chair positi...\n",
      "66719     why did the 5th electron go into the 2px orbit...\n",
      "71085                                Was ur favorite animal\n",
      "71086                               Platypus. What's yours?\n",
      "77635     keep watching videos, learning new concepts an...\n",
      "84714     if a - charge is an electron what is a positiv...\n",
      "92988     where did you get the 2 x's in the linear equa...\n",
      "97027     how do male fish end up with female sex cells ...\n",
      "97106     There are so many, here is a link to an articl...\n",
      "102210    At 0:50 and following, why would the nucleophi...\n",
      "121948    If the slope of this line is 2, then the slope...\n",
      "130218    I think the two examples cited (Myanmar/Burma ...\n",
      "139580    You forgot Chinese communism! you have a nerd ...\n",
      "144038    the question is: the total resistance, R ohms,...\n",
      "144553    Is it always necessary to use solvents in a ch...\n",
      "144554    No, it is not always necessary to use solvents...\n",
      "154389    I have been given a question that has a quadra...\n",
      "157612     how do you like comeplate it i still dont get it\n",
      "165919    Sir, 1. What is the difference between heat an...\n",
      "165921    1) Temperature is the measure of the average k...\n",
      "165922    1. Watch these\\nhttps://www.youtube.com/watch?...\n",
      "166100    during winter me can hear sound from far off  ...\n",
      "166101              Leaves on trees absorb sound in summer.\n",
      "166574        Watch sal's vids about polarization of light.\n",
      "Name: content, dtype: object\n",
      "False positives:\n",
      "66720     The three 2p orbitals are all identical.\\nIt d...\n",
      "69514     Y=2x-5 what is the slope of a line that is par...\n",
      "71027     What if the ratio is a infinite decimal.  Such...\n",
      "84715                         Protons have positive charge.\n",
      "90063     how can an atom have zero KE? the electrons al...\n",
      "90064     You are correct.  It is impossible for anythin...\n",
      "100136    Wouldn't all the stuff that flew off the Earth...\n",
      "117101    LCM is least common multiple. It is number tha...\n",
      "118643                        75 divided by 3 is 25, not 15\n",
      "120908    Please could you like post the pdf file of wha...\n",
      "121947    Y=2x-5 write the slope of line that is paralle...\n",
      "143162                 Why are the tens place so confusing?\n",
      "145062                             can you define ''compute\n",
      "156046    It is the relation between two numbers that do...\n",
      "156048    Then you would put an equal sign between the n...\n",
      "163421    in 1;04, in the top right corner there is some...\n",
      "169385    For every thought you could ever have in all o...\n",
      "179141    Inspired by, but not based on, such things as ...\n",
      "179647    Wouldn't the stars just float off because the ...\n",
      "186542    At 4:25, Sal states that Britain and France di...\n",
      "196552    I know that plants in hot conditions use C4 ph...\n",
      "198195      probability of 280 vs 293 boys born to a couple\n",
      "221418    Anyone can buy bonds from their bond brokerage...\n",
      "232493                                     what is abdicate\n",
      "232494    Abdicate, as it is generally used, means to gi...\n",
      "Name: content, dtype: object\n",
      "False negatives:\n",
      "145906                                       i do not get it\n",
      "187350     I don't know why this has multiple steps.It se...\n",
      "202845                                   whats the qquestion\n",
      "255803     Maybe if you put to much stress on your arm......\n",
      "277273                   this is really hard to me any tips?\n",
      "329115     At 2:15 you are subtracting 8 from 195 and in ...\n",
      "329752     If rainforests are 6% of the earth and home to...\n",
      "350651                                  does this taste good\n",
      "446366                                     Equivulant of 2/4\n",
      "463391     im in year 4 so please can you help me with my...\n",
      "484264     How many MG of salt do you need to make a solu...\n",
      "487248     Iont need to keep on looking at these videos i...\n",
      "514673     I have to do khan Academy for 1 hour a day, an...\n",
      "680537                                its more fun than hard\n",
      "728015                              or you just got it wrong\n",
      "728016     You can click on the \"Report an error in this ...\n",
      "749685                                     what is 19 PLUS 9\n",
      "749687     Rrrrrrrrrrrrrrrrrrraaaaaaaaaaaammmmmmmmmmmmmmo...\n",
      "756695     There are, at the end of the section. You coul...\n",
      "800161     How to make spread sheet to show practice test...\n",
      "1053997                                      2 1/2 • 5 3/4 =\n",
      "1140954    Check out the string methods `toUpperCase` and...\n",
      "17786      I had a problem that was 5(2x-6) + 20 = 10. I ...\n",
      "71721           explain how you get from 10 and 5 to 2 and 1\n",
      "72376                                       nice name u have\n",
      "Name: content, dtype: object\n"
     ]
    }
   ],
   "source": [
    "reload(common)\n",
    "common.show_errors(\"ka-rank-balanced\", \"rank-tfidf-1\", \"MultinomialNB\")"
   ]
  },
  {
   "cell_type": "code",
   "execution_count": null,
   "metadata": {
    "collapsed": true
   },
   "outputs": [],
   "source": []
  },
  {
   "cell_type": "code",
   "execution_count": null,
   "metadata": {
    "collapsed": true
   },
   "outputs": [],
   "source": []
  }
 ],
 "metadata": {
  "kernelspec": {
   "display_name": "Python 2",
   "language": "python",
   "name": "python2"
  },
  "language_info": {
   "codemirror_mode": {
    "name": "ipython",
    "version": 2
   },
   "file_extension": ".py",
   "mimetype": "text/x-python",
   "name": "python",
   "nbconvert_exporter": "python",
   "pygments_lexer": "ipython2",
   "version": "2.7.12"
  }
 },
 "nbformat": 4,
 "nbformat_minor": 1
}
