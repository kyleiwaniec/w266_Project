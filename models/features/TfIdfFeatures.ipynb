{
 "cells": [
  {
   "cell_type": "code",
   "execution_count": 72,
   "metadata": {
    "collapsed": true
   },
   "outputs": [],
   "source": [
    "import py_compile\n",
    "py_compile.compile('common.py')"
   ]
  },
  {
   "cell_type": "code",
   "execution_count": 73,
   "metadata": {
    "collapsed": false
   },
   "outputs": [
    {
     "data": {
      "text/plain": [
       "<module 'common' from 'common.pyc'>"
      ]
     },
     "execution_count": 73,
     "metadata": {},
     "output_type": "execute_result"
    }
   ],
   "source": [
    "import common\n",
    "reload(common)"
   ]
  },
  {
   "cell_type": "code",
   "execution_count": 86,
   "metadata": {
    "collapsed": false
   },
   "outputs": [
    {
     "name": "stdout",
     "output_type": "stream",
     "text": [
      "Automatically created module for IPython interactive environment\n"
     ]
    }
   ],
   "source": [
    "print(__doc__)\n",
    "\n",
    "import matplotlib.pyplot as plt\n",
    "import numpy as np\n",
    "from itertools import cycle\n",
    "\n",
    "from sklearn import svm, datasets\n",
    "from sklearn.metrics import precision_recall_curve\n",
    "from sklearn.metrics import average_precision_score\n",
    "from sklearn.model_selection import train_test_split\n",
    "from sklearn.preprocessing import label_binarize\n",
    "from sklearn.multiclass import OneVsRestClassifier"
   ]
  },
  {
   "cell_type": "code",
   "execution_count": 74,
   "metadata": {
    "collapsed": true
   },
   "outputs": [],
   "source": [
    "from sklearn.feature_extraction.text import TfidfVectorizer\n",
    "\n",
    "class TfIdfFeatureExtractor(object):\n",
    "    def __init__(self, ngram, min_df):\n",
    "        self.vectorizer = TfidfVectorizer(min_df=min_df, ngram_range=(1,ngram), stop_words=\"english\")\n",
    "        \n",
    "    def train(self, train_data):\n",
    "        features = self.vectorizer.fit_transform(train_data[\"content\"])\n",
    "        print \"Vocab size %d\" % len(self.vectorizer.vocabulary_)\n",
    "        return features\n",
    "        \n",
    "    def transform(self, test_data):\n",
    "        return self.vectorizer.transform(test_data[\"content\"])"
   ]
  },
  {
   "cell_type": "code",
   "execution_count": 75,
   "metadata": {
    "collapsed": false
   },
   "outputs": [
    {
     "name": "stdout",
     "output_type": "stream",
     "text": [
      "Loading ka-comments-balanced dataset.\n",
      "Training feature extractor all-tfidf-1.\n",
      "Vocab size 64542\n",
      "Generating validation set...\n",
      "Generating test set...\n",
      "Writing to disk...\n",
      "Done.\n"
     ]
    },
    {
     "data": {
      "text/plain": [
       "{'test_X': <5000x64542 sparse matrix of type '<type 'numpy.float64'>'\n",
       " \twith 59873 stored elements in Compressed Sparse Row format>,\n",
       " 'test_Y': 1132940     True\n",
       " 332055     False\n",
       " 1132946     True\n",
       " 332056     False\n",
       " 1132994     True\n",
       " 332057     False\n",
       " 1133006     True\n",
       " 332058     False\n",
       " 1133165     True\n",
       " 332059     False\n",
       " 1133169     True\n",
       " 332060     False\n",
       " 1133177     True\n",
       " 332061     False\n",
       " 1133179     True\n",
       " 332062     False\n",
       " 1133180     True\n",
       " 332063     False\n",
       " 1133181     True\n",
       " 332064     False\n",
       " 1133182     True\n",
       " 332065     False\n",
       " 1133183     True\n",
       " 332066     False\n",
       " 1133208     True\n",
       " 332067     False\n",
       " 1133209     True\n",
       " 332068     False\n",
       " 1133210     True\n",
       " 332069     False\n",
       "            ...  \n",
       " 1145266     True\n",
       " 335418     False\n",
       " 1145267     True\n",
       " 335419     False\n",
       " 1145278     True\n",
       " 335420     False\n",
       " 1145382     True\n",
       " 335421     False\n",
       " 1145383     True\n",
       " 335422     False\n",
       " 1145394     True\n",
       " 335423     False\n",
       " 1145407     True\n",
       " 335424     False\n",
       " 1145408     True\n",
       " 335425     False\n",
       " 1145409     True\n",
       " 335426     False\n",
       " 1145412     True\n",
       " 335427     False\n",
       " 1145414     True\n",
       " 335428     False\n",
       " 1145427     True\n",
       " 335429     False\n",
       " 1145428     True\n",
       " 335430     False\n",
       " 1145429     True\n",
       " 335431     False\n",
       " 1145432     True\n",
       " 335432     False\n",
       " Name: hasVotes, dtype: bool,\n",
       " 'train_X': <488240x64542 sparse matrix of type '<type 'numpy.float64'>'\n",
       " \twith 5887707 stored elements in Compressed Sparse Row format>,\n",
       " 'train_Y': 0           True\n",
       " 6          False\n",
       " 1           True\n",
       " 12         False\n",
       " 2           True\n",
       " 13         False\n",
       " 3           True\n",
       " 14         False\n",
       " 4           True\n",
       " 15         False\n",
       " 5           True\n",
       " 16         False\n",
       " 7           True\n",
       " 17         False\n",
       " 8           True\n",
       " 19         False\n",
       " 9           True\n",
       " 20         False\n",
       " 10          True\n",
       " 23         False\n",
       " 11          True\n",
       " 24         False\n",
       " 18          True\n",
       " 33         False\n",
       " 21          True\n",
       " 34         False\n",
       " 22          True\n",
       " 37         False\n",
       " 25          True\n",
       " 38         False\n",
       "            ...  \n",
       " 1121921     True\n",
       " 328683     False\n",
       " 1121923     True\n",
       " 328684     False\n",
       " 1121924     True\n",
       " 328685     False\n",
       " 1121925     True\n",
       " 328686     False\n",
       " 1121926     True\n",
       " 328687     False\n",
       " 1121929     True\n",
       " 328689     False\n",
       " 1121930     True\n",
       " 328690     False\n",
       " 1121932     True\n",
       " 328692     False\n",
       " 1121933     True\n",
       " 328693     False\n",
       " 1121936     True\n",
       " 328694     False\n",
       " 1121937     True\n",
       " 328696     False\n",
       " 1121941     True\n",
       " 328697     False\n",
       " 1121942     True\n",
       " 328698     False\n",
       " 1121944     True\n",
       " 328699     False\n",
       " 1121945     True\n",
       " 328700     False\n",
       " Name: hasVotes, dtype: bool,\n",
       " 'validate_X': <5000x64542 sparse matrix of type '<type 'numpy.float64'>'\n",
       " \twith 59804 stored elements in Compressed Sparse Row format>,\n",
       " 'validate_Y': 1121947     True\n",
       " 328701     False\n",
       " 1121948     True\n",
       " 328702     False\n",
       " 1121950     True\n",
       " 328703     False\n",
       " 1121951     True\n",
       " 328704     False\n",
       " 1121953     True\n",
       " 328705     False\n",
       " 1121955     True\n",
       " 328706     False\n",
       " 1121956     True\n",
       " 328707     False\n",
       " 1121959     True\n",
       " 328709     False\n",
       " 1121962     True\n",
       " 328710     False\n",
       " 1121963     True\n",
       " 328711     False\n",
       " 1121965     True\n",
       " 328712     False\n",
       " 1121969     True\n",
       " 328713     False\n",
       " 1121971     True\n",
       " 328714     False\n",
       " 1121972     True\n",
       " 328715     False\n",
       " 1121973     True\n",
       " 328717     False\n",
       "            ...  \n",
       " 1132905     True\n",
       " 332040     False\n",
       " 1132907     True\n",
       " 332041     False\n",
       " 1132909     True\n",
       " 332042     False\n",
       " 1132911     True\n",
       " 332043     False\n",
       " 1132913     True\n",
       " 332044     False\n",
       " 1132916     True\n",
       " 332045     False\n",
       " 1132918     True\n",
       " 332046     False\n",
       " 1132921     True\n",
       " 332047     False\n",
       " 1132924     True\n",
       " 332048     False\n",
       " 1132926     True\n",
       " 332049     False\n",
       " 1132929     True\n",
       " 332050     False\n",
       " 1132931     True\n",
       " 332051     False\n",
       " 1132933     True\n",
       " 332052     False\n",
       " 1132935     True\n",
       " 332053     False\n",
       " 1132937     True\n",
       " 332054     False\n",
       " Name: hasVotes, dtype: bool}"
      ]
     },
     "execution_count": 75,
     "metadata": {},
     "output_type": "execute_result"
    }
   ],
   "source": [
    "common.extract_features(\"ka-comments-balanced\", TfIdfFeatureExtractor(1, 2), \"all-tfidf-1\")"
   ]
  },
  {
   "cell_type": "code",
   "execution_count": 62,
   "metadata": {
    "collapsed": false
   },
   "outputs": [
    {
     "name": "stdout",
     "output_type": "stream",
     "text": [
      "Loading features all-tfidf-1.\n",
      "Training models.\n",
      "##        MultinomialNB     all-tfidf-1 accuracy: 62.2 %\n",
      "##            LinearSVC     all-tfidf-1 accuracy: 62.3 %\n",
      "##                  MLP     all-tfidf-1 accuracy: 63.8 %\n"
     ]
    },
    {
     "data": {
      "text/plain": [
       "{'LinearSVC': array([ True, False,  True, ..., False, False, False], dtype=bool),\n",
       " 'MLP': array([ True, False,  True, ..., False, False, False], dtype=bool),\n",
       " 'MultinomialNB': array([ True, False,  True, ..., False, False, False], dtype=bool)}"
      ]
     },
     "execution_count": 62,
     "metadata": {},
     "output_type": "execute_result"
    }
   ],
   "source": [
    "common.test_features(\"all-tfidf-1\")"
   ]
  },
  {
   "cell_type": "code",
   "execution_count": 63,
   "metadata": {
    "collapsed": false
   },
   "outputs": [
    {
     "name": "stdout",
     "output_type": "stream",
     "text": [
      "Training feature extractor all-tfidf-2.\n",
      "Vocab size 181329\n",
      "Generating validation set...\n",
      "Generating test set...\n",
      "Writing to disk...\n",
      "Done.\n"
     ]
    }
   ],
   "source": [
    "common.extract_features(\"ka-comments-balanced\", TfIdfFeatureExtractor(2, 6), \"all-tfidf-2\")"
   ]
  },
  {
   "cell_type": "code",
   "execution_count": 64,
   "metadata": {
    "collapsed": false
   },
   "outputs": [
    {
     "name": "stdout",
     "output_type": "stream",
     "text": [
      "Loading features all-tfidf-2.\n",
      "Training models.\n",
      "##        MultinomialNB     all-tfidf-2 accuracy: 62.0 %\n",
      "##            LinearSVC     all-tfidf-2 accuracy: 59.3 %\n",
      "##                  MLP     all-tfidf-2 accuracy: 62.7 %\n"
     ]
    },
    {
     "data": {
      "text/plain": [
       "{'LinearSVC': array([ True,  True,  True, ...,  True, False, False], dtype=bool),\n",
       " 'MLP': array([ True, False,  True, ..., False,  True, False], dtype=bool),\n",
       " 'MultinomialNB': array([ True, False,  True, ..., False, False, False], dtype=bool)}"
      ]
     },
     "execution_count": 64,
     "metadata": {},
     "output_type": "execute_result"
    }
   ],
   "source": [
    "common.test_features(\"all-tfidf-2\")"
   ]
  },
  {
   "cell_type": "code",
   "execution_count": 65,
   "metadata": {
    "collapsed": false
   },
   "outputs": [
    {
     "name": "stdout",
     "output_type": "stream",
     "text": [
      "Loading ka-replies-balanced dataset.\n",
      "Training feature extractor reply-tfidf-1.\n",
      "Vocab size 56396\n",
      "Generating validation set...\n",
      "Generating test set...\n",
      "Writing to disk...\n",
      "Done.\n"
     ]
    }
   ],
   "source": [
    "common.extract_features(\"ka-replies-balanced\", TfIdfFeatureExtractor(1, 2), \"reply-tfidf-1\")"
   ]
  },
  {
   "cell_type": "code",
   "execution_count": 66,
   "metadata": {
    "collapsed": false
   },
   "outputs": [
    {
     "name": "stdout",
     "output_type": "stream",
     "text": [
      "Loading features reply-tfidf-1.\n",
      "Training models.\n",
      "##        MultinomialNB   reply-tfidf-1 accuracy: 61.5 %\n",
      "##            LinearSVC   reply-tfidf-1 accuracy: 61.1 %\n",
      "##                  MLP   reply-tfidf-1 accuracy: 62.6 %\n"
     ]
    },
    {
     "data": {
      "text/plain": [
       "{'LinearSVC': array([ True, False,  True, ..., False,  True, False], dtype=bool),\n",
       " 'MLP': array([ True, False, False, ..., False,  True, False], dtype=bool),\n",
       " 'MultinomialNB': array([ True, False, False, ..., False,  True, False], dtype=bool)}"
      ]
     },
     "execution_count": 66,
     "metadata": {},
     "output_type": "execute_result"
    }
   ],
   "source": [
    "common.test_features(\"reply-tfidf-1\")"
   ]
  },
  {
   "cell_type": "code",
   "execution_count": 67,
   "metadata": {
    "collapsed": false
   },
   "outputs": [
    {
     "name": "stdout",
     "output_type": "stream",
     "text": [
      "Training feature extractor reply-tfidf-2.\n",
      "Vocab size 145427\n",
      "Generating validation set...\n",
      "Generating test set...\n",
      "Writing to disk...\n",
      "Done.\n"
     ]
    }
   ],
   "source": [
    "common.extract_features(\"ka-replies-balanced\", TfIdfFeatureExtractor(2, 6), \"reply-tfidf-2\")"
   ]
  },
  {
   "cell_type": "code",
   "execution_count": 68,
   "metadata": {
    "collapsed": false
   },
   "outputs": [
    {
     "name": "stdout",
     "output_type": "stream",
     "text": [
      "Loading features reply-tfidf-2.\n",
      "Training models.\n",
      "##        MultinomialNB   reply-tfidf-2 accuracy: 61.4 %\n",
      "##            LinearSVC   reply-tfidf-2 accuracy: 59.6 %\n",
      "##                  MLP   reply-tfidf-2 accuracy: 63.1 %\n"
     ]
    },
    {
     "data": {
      "text/plain": [
       "{'LinearSVC': array([ True, False, False, ..., False, False, False], dtype=bool),\n",
       " 'MLP': array([ True, False, False, ..., False,  True, False], dtype=bool),\n",
       " 'MultinomialNB': array([ True, False,  True, ..., False,  True, False], dtype=bool)}"
      ]
     },
     "execution_count": 68,
     "metadata": {},
     "output_type": "execute_result"
    }
   ],
   "source": [
    "common.test_features(\"reply-tfidf-2\")"
   ]
  },
  {
   "cell_type": "code",
   "execution_count": 69,
   "metadata": {
    "collapsed": false
   },
   "outputs": [
    {
     "name": "stdout",
     "output_type": "stream",
     "text": [
      "Loading features reply-tfidf-1.\n",
      "Training models.\n",
      "##        MultinomialNB   reply-tfidf-1 accuracy: 61.5 %\n",
      "##            LinearSVC   reply-tfidf-1 accuracy: 61.1 %\n",
      "##                  MLP   reply-tfidf-1 accuracy: 62.6 %\n"
     ]
    },
    {
     "data": {
      "text/plain": [
       "{'LinearSVC': array([ True, False,  True, ..., False,  True, False], dtype=bool),\n",
       " 'MLP': array([ True, False,  True, ..., False, False, False], dtype=bool),\n",
       " 'MultinomialNB': array([ True, False, False, ..., False,  True, False], dtype=bool)}"
      ]
     },
     "execution_count": 69,
     "metadata": {},
     "output_type": "execute_result"
    }
   ],
   "source": [
    "predictions = common.test_features(\"reply-tfidf-1\")\n",
    "predictions"
   ]
  },
  {
   "cell_type": "code",
   "execution_count": 41,
   "metadata": {
    "collapsed": true
   },
   "outputs": [],
   "source": [
    "import numpy as np\n",
    "from sklearn.feature_extraction.text import TfidfVectorizer\n",
    "from sklearn.metrics.pairwise import paired_cosine_distances\n",
    "\n",
    "class TfIdfSimilarityExtractor(object):\n",
    "    def __init__(self, ngram, min_df):\n",
    "        self.vectorizer = TfidfVectorizer(min_df=min_df, ngram_range=(1,ngram), stop_words=\"english\")\n",
    "        \n",
    "    def train(self, train_data):\n",
    "        self.vectorizer.fit(np.hstack((train_data[\"content\"], train_data[\"content_parent\"])))\n",
    "        print \"Vocab size %d\" % len(self.vectorizer.vocabulary_)\n",
    "        \n",
    "        features_reply = self.vectorizer.transform(train_data[\"content\"])\n",
    "        features_parent = self.vectorizer.transform(train_data[\"content_parent\"])\n",
    "        \n",
    "        d = paired_cosine_distances(features_reply, features_parent)\n",
    "        d = np.reshape(d, (np.shape(d)[0],1))\n",
    "        return d\n",
    "        \n",
    "    def transform(self, test_data):\n",
    "        features_reply = self.vectorizer.transform(test_data[\"content\"])\n",
    "        features_parent = self.vectorizer.transform(test_data[\"content_parent\"])\n",
    "        \n",
    "        d = paired_cosine_distances(features_reply, features_parent)\n",
    "        d = np.reshape(d, (np.shape(d)[0],1))\n",
    "        return d"
   ]
  },
  {
   "cell_type": "code",
   "execution_count": 42,
   "metadata": {
    "collapsed": false
   },
   "outputs": [
    {
     "name": "stdout",
     "output_type": "stream",
     "text": [
      "Training feature extractor diff-tfidf-1.\n",
      "Vocab size 25896\n",
      "Generating validation set...\n",
      "Generating test set...\n",
      "Writing to disk...\n",
      "Done.\n"
     ]
    }
   ],
   "source": [
    "common.extract_features(\"ka-replies-balanced\", TfIdfSimilarityExtractor(1, 2), \"diff-tfidf-1\")"
   ]
  },
  {
   "cell_type": "code",
   "execution_count": 43,
   "metadata": {
    "collapsed": false
   },
   "outputs": [
    {
     "name": "stdout",
     "output_type": "stream",
     "text": [
      "Loading features diff-tfidf-1.\n",
      "Training models.\n",
      "##        MultinomialNB    diff-tfidf-1 accuracy: 50.0 %\n",
      "##            LinearSVC    diff-tfidf-1 accuracy: 51.2 %\n",
      "##                  MLP    diff-tfidf-1 accuracy: 56.4 %\n"
     ]
    }
   ],
   "source": [
    "common.test_features(\"diff-tfidf-1\")"
   ]
  },
  {
   "cell_type": "code",
   "execution_count": 44,
   "metadata": {
    "collapsed": false
   },
   "outputs": [
    {
     "name": "stdout",
     "output_type": "stream",
     "text": [
      "Training feature extractor diff-tfidf-2.\n",
      "Vocab size 30798\n",
      "Generating validation set...\n",
      "Generating test set...\n",
      "Writing to disk...\n",
      "Done.\n"
     ]
    }
   ],
   "source": [
    "common.extract_features(\"ka-replies-balanced\", TfIdfSimilarityExtractor(2, 6), \"diff-tfidf-2\")"
   ]
  },
  {
   "cell_type": "code",
   "execution_count": 45,
   "metadata": {
    "collapsed": false
   },
   "outputs": [
    {
     "name": "stdout",
     "output_type": "stream",
     "text": [
      "Loading features diff-tfidf-2.\n",
      "Training models.\n",
      "##        MultinomialNB    diff-tfidf-2 accuracy: 50.0 %\n",
      "##            LinearSVC    diff-tfidf-2 accuracy: 51.0 %\n",
      "##                  MLP    diff-tfidf-2 accuracy: 52.8 %\n"
     ]
    }
   ],
   "source": [
    "common.test_features(\"diff-tfidf-2\")"
   ]
  },
  {
   "cell_type": "code",
   "execution_count": 46,
   "metadata": {
    "collapsed": false
   },
   "outputs": [
    {
     "name": "stdout",
     "output_type": "stream",
     "text": [
      "Loading features diff-tfidf-2.\n",
      "Loading features reply-tfidf-2.\n",
      "Combining features.\n",
      "Training models.\n",
      "##        MultinomialNB     diff-tfidf-2_reply-tfidf-2 accuracy: 57.6 %\n",
      "##            LinearSVC     diff-tfidf-2_reply-tfidf-2 accuracy: 59.0 %\n",
      "##                  MLP     diff-tfidf-2_reply-tfidf-2 accuracy: 59.8 %\n"
     ]
    }
   ],
   "source": [
    "common.test_combined_features([\"diff-tfidf-2\", \"reply-tfidf-2\"])"
   ]
  },
  {
   "cell_type": "markdown",
   "metadata": {},
   "source": [
    "## Draw Precision Recall Curve"
   ]
  },
  {
   "cell_type": "code",
   "execution_count": 76,
   "metadata": {
    "collapsed": false
   },
   "outputs": [
    {
     "name": "stdout",
     "output_type": "stream",
     "text": [
      "Loading features all-tfidf-1.\n",
      "Training models.\n",
      "##        MultinomialNB     all-tfidf-1 accuracy: 62.2 %\n",
      "##            LinearSVC     all-tfidf-1 accuracy: 62.3 %\n",
      "##                  MLP     all-tfidf-1 accuracy: 63.8 %\n"
     ]
    }
   ],
   "source": [
    "# Compute Precision-Recall and plot curve\n",
    "precision = dict()\n",
    "recall = dict()\n",
    "average_precision = dict()\n",
    "\n",
    "predictions, features = common.test_features(\"all-tfidf-1\")"
   ]
  },
  {
   "cell_type": "markdown",
   "metadata": {},
   "source": [
    "# Precision and recall\n",
    "$$ Precision = \\frac{True Positive}{True Positive + False Positive} $$\n",
    "\n",
    "$$ Recall = \\frac{True Positive}{True Positive + False Negative} $$\n",
    "\n",
    "$$ F1 = 2*\\frac{Precision*Recall}{Precision+Recall} $$"
   ]
  },
  {
   "cell_type": "code",
   "execution_count": 232,
   "metadata": {
    "collapsed": false
   },
   "outputs": [
    {
     "name": "stdout",
     "output_type": "stream",
     "text": [
      "========================================\n",
      "MultinomialNB\n",
      "========================================\n",
      "True Positive             1618\n",
      "True Negative             1491\n",
      "False Positive            1009\n",
      "False Negative             882\n",
      "Precision                    0.6159\n",
      "Recall                       0.6472\n",
      "F1                           0.6312\n",
      "========================================\n",
      "LinearSVC\n",
      "========================================\n",
      "True Positive             1580\n",
      "True Negative             1536\n",
      "False Positive             964\n",
      "False Negative             920\n",
      "Precision                    0.6211\n",
      "Recall                       0.6320\n",
      "F1                           0.6265\n",
      "========================================\n",
      "MLP\n",
      "========================================\n",
      "True Positive             1594\n",
      "True Negative             1594\n",
      "False Positive             906\n",
      "False Negative             906\n",
      "Precision                    0.6376\n",
      "Recall                       0.6376\n",
      "F1                           0.6376\n",
      "========================================\n"
     ]
    }
   ],
   "source": [
    "from __future__ import division\n",
    "\n",
    "models = [\"MultinomialNB\",\"LinearSVC\",\"MLP\"]\n",
    "print \"==\"*20\n",
    "for model in models:\n",
    "\n",
    "    y_score = predictions[model]\n",
    "    y_test = np.array(features[\"test_Y\"])\n",
    "\n",
    "\n",
    "    # print y_test[:10]\n",
    "    # print y_score[:10]\n",
    "\n",
    "    print model\n",
    "    print \"==\"*20\n",
    "\n",
    "    TruePositive = sum(1 for a,b in zip(y_test,y_score) if a==1 and b==1)\n",
    "    FalsePositive = sum(1 for a,b in zip(y_test,y_score) if a==0 and b==1)\n",
    "    FalseNegative = sum(1 for a,b in zip(y_test,y_score) if a==1 and b==0)\n",
    "    TrueNegative = sum(1 for a,b in zip(y_test,y_score) if a==0 and b==0)\n",
    "    Precision = TruePositive/(TruePositive + FalsePositive)\n",
    "    Recall = TruePositive/(TruePositive + FalseNegative)\n",
    "\n",
    "    print \"{:20}{:{w}.{p}f}\".format(\"True Positive \",TruePositive, w=10, p=0)\n",
    "    print \"{:20}{:{w}.{p}f}\".format(\"True Negative \",TrueNegative, w=10, p=0)\n",
    "    print \"{:20}{:{w}.{p}f}\".format(\"False Positive \",FalsePositive, w=10, p=0)\n",
    "    print \"{:20}{:{w}.{p}f}\".format(\"False Negative \",FalseNegative, w=10, p=0)\n",
    "    print \"{:20}{:{w}.{p}f}\".format(\"Precision \", Precision,  w=15, p=4)\n",
    "    print \"{:20}{:{w}.{p}f}\".format(\"Recall \", Recall,  w=15, p=4)\n",
    "    print \"{:20}{:{w}.{p}f}\".format(\"F1 \", 2*((Precision * Recall)/(Precision + Recall)), w=15, p=4)\n",
    "    print \"==\"*20"
   ]
  },
  {
   "cell_type": "code",
   "execution_count": 177,
   "metadata": {
    "collapsed": false
   },
   "outputs": [],
   "source": [
    "precision, recall, _ = precision_recall_curve(y_test,y_score)\n",
    "average_precision = average_precision_score(y_test, y_score)"
   ]
  },
  {
   "cell_type": "code",
   "execution_count": 178,
   "metadata": {
    "collapsed": false
   },
   "outputs": [
    {
     "data": {
      "image/png": "[encoded data removed]",
      "text/plain": [
       "<matplotlib.figure.Figure at 0x7fc6098b1f10>"
      ]
     },
     "metadata": {},
     "output_type": "display_data"
    }
   ],
   "source": [
    "# Plot Precision-Recall curve\n",
    "plt.clf()\n",
    "plt.plot(recall, precision, lw=2, color='#ff0055',label='')\n",
    "plt.xlabel('Recall')\n",
    "plt.ylabel('Precision')\n",
    "plt.ylim([0.0, 1.05])\n",
    "plt.xlim([0.0, 1.0])\n",
    "plt.title('Precision-Recall MLP - all-tfidf-1: AUC={0:0.2f}'.format(average_precision))\n",
    "plt.legend(loc=\"lower left\")\n",
    "plt.show()"
   ]
  },
  {
   "cell_type": "code",
   "execution_count": null,
   "metadata": {
    "collapsed": true
   },
   "outputs": [],
   "source": []
  }
 ],
 "metadata": {
  "kernelspec": {
   "display_name": "Python 2",
   "language": "python",
   "name": "python2"
  },
  "language_info": {
   "codemirror_mode": {
    "name": "ipython",
    "version": 2
   },
   "file_extension": ".py",
   "mimetype": "text/x-python",
   "name": "python",
   "nbconvert_exporter": "python",
   "pygments_lexer": "ipython2",
   "version": "2.7.12"
  }
 },
 "nbformat": 4,
 "nbformat_minor": 1
}
