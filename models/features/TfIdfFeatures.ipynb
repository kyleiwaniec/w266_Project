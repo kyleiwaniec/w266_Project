{
 "cells": [
  {
   "cell_type": "code",
   "execution_count": 27,
   "metadata": {
    "collapsed": false
   },
   "outputs": [
    {
     "data": {
      "text/plain": [
       "<module 'common' from 'common.pyc'>"
      ]
     },
     "execution_count": 27,
     "metadata": {},
     "output_type": "execute_result"
    }
   ],
   "source": [
    "import common\n",
    "reload(common)"
   ]
  },
  {
   "cell_type": "code",
   "execution_count": 28,
   "metadata": {
    "collapsed": true
   },
   "outputs": [],
   "source": [
    "from sklearn.feature_extraction.text import TfidfVectorizer\n",
    "\n",
    "class TfIdfFeatureExtractor(object):\n",
    "    def __init__(self, ngram, min_df):\n",
    "        self.vectorizer = TfidfVectorizer(min_df=min_df, ngram_range=(1,ngram), stop_words=\"english\")\n",
    "        \n",
    "    def train(self, train_data):\n",
    "        features = self.vectorizer.fit_transform(train_data[\"content\"])\n",
    "        print \"Vocab size %d\" % len(self.vectorizer.vocabulary_)\n",
    "        return features\n",
    "        \n",
    "    def transform(self, test_data):\n",
    "        return self.vectorizer.transform(test_data[\"content\"])"
   ]
  },
  {
   "cell_type": "code",
   "execution_count": 29,
   "metadata": {
    "collapsed": false
   },
   "outputs": [
    {
     "name": "stdout",
     "output_type": "stream",
     "text": [
      "Loading ka-comments-balanced dataset.\n",
      "Training feature extractor all-tfidf-1.\n",
      "Vocab size 64542\n",
      "Generating validation set...\n",
      "Generating test set...\n",
      "Writing to disk...\n",
      "Done.\n"
     ]
    }
   ],
   "source": [
    "common.extract_features(\"ka-comments-balanced\", TfIdfFeatureExtractor(1, 2), \"all-tfidf-1\")"
   ]
  },
  {
   "cell_type": "code",
   "execution_count": 30,
   "metadata": {
    "collapsed": false
   },
   "outputs": [
    {
     "name": "stdout",
     "output_type": "stream",
     "text": [
      "Loading features all-tfidf-1.\n",
      "Training models.\n",
      "##        MultinomialNB     all-tfidf-1 accuracy: 62.2 %\n",
      "##            LinearSVC     all-tfidf-1 accuracy: 62.3 %\n",
      "##                  MLP     all-tfidf-1 accuracy: 63.4 %\n"
     ]
    }
   ],
   "source": [
    "common.test_features(\"all-tfidf-1\")"
   ]
  },
  {
   "cell_type": "code",
   "execution_count": 31,
   "metadata": {
    "collapsed": false
   },
   "outputs": [
    {
     "name": "stdout",
     "output_type": "stream",
     "text": [
      "Training feature extractor all-tfidf-2.\n",
      "Vocab size 181329\n",
      "Generating validation set...\n",
      "Generating test set...\n",
      "Writing to disk...\n",
      "Done.\n"
     ]
    }
   ],
   "source": [
    "common.extract_features(\"ka-comments-balanced\", TfIdfFeatureExtractor(2, 6), \"all-tfidf-2\")"
   ]
  },
  {
   "cell_type": "code",
   "execution_count": 32,
   "metadata": {
    "collapsed": false
   },
   "outputs": [
    {
     "name": "stdout",
     "output_type": "stream",
     "text": [
      "Loading features all-tfidf-2.\n",
      "Training models.\n",
      "##        MultinomialNB     all-tfidf-2 accuracy: 62.0 %\n",
      "##            LinearSVC     all-tfidf-2 accuracy: 59.3 %\n",
      "##                  MLP     all-tfidf-2 accuracy: 63.7 %\n"
     ]
    }
   ],
   "source": [
    "common.test_features(\"all-tfidf-2\")"
   ]
  },
  {
   "cell_type": "code",
   "execution_count": 33,
   "metadata": {
    "collapsed": false
   },
   "outputs": [
    {
     "name": "stdout",
     "output_type": "stream",
     "text": [
      "Loading ka-replies-balanced dataset.\n",
      "Training feature extractor reply-tfidf-1.\n",
      "Vocab size 56396\n",
      "Generating validation set...\n",
      "Generating test set...\n",
      "Writing to disk...\n",
      "Done.\n"
     ]
    }
   ],
   "source": [
    "common.extract_features(\"ka-replies-balanced\", TfIdfFeatureExtractor(1, 2), \"reply-tfidf-1\")"
   ]
  },
  {
   "cell_type": "code",
   "execution_count": 34,
   "metadata": {
    "collapsed": false
   },
   "outputs": [
    {
     "name": "stdout",
     "output_type": "stream",
     "text": [
      "Loading features reply-tfidf-1.\n",
      "Training models.\n",
      "##        MultinomialNB   reply-tfidf-1 accuracy: 61.5 %\n",
      "##            LinearSVC   reply-tfidf-1 accuracy: 61.1 %\n",
      "##                  MLP   reply-tfidf-1 accuracy: 63.9 %\n"
     ]
    }
   ],
   "source": [
    "common.test_features(\"reply-tfidf-1\")"
   ]
  },
  {
   "cell_type": "code",
   "execution_count": 35,
   "metadata": {
    "collapsed": false
   },
   "outputs": [
    {
     "name": "stdout",
     "output_type": "stream",
     "text": [
      "Training feature extractor reply-tfidf-2.\n",
      "Vocab size 145427\n",
      "Generating validation set...\n",
      "Generating test set...\n",
      "Writing to disk...\n",
      "Done.\n"
     ]
    }
   ],
   "source": [
    "common.extract_features(\"ka-replies-balanced\", TfIdfFeatureExtractor(2, 6), \"reply-tfidf-2\")"
   ]
  },
  {
   "cell_type": "code",
   "execution_count": 36,
   "metadata": {
    "collapsed": false
   },
   "outputs": [
    {
     "name": "stdout",
     "output_type": "stream",
     "text": [
      "Loading features reply-tfidf-2.\n",
      "Training models.\n",
      "##        MultinomialNB   reply-tfidf-2 accuracy: 61.4 %\n",
      "##            LinearSVC   reply-tfidf-2 accuracy: 59.6 %\n",
      "##                  MLP   reply-tfidf-2 accuracy: 63.4 %\n"
     ]
    }
   ],
   "source": [
    "common.test_features(\"reply-tfidf-2\")"
   ]
  },
  {
   "cell_type": "code",
   "execution_count": 37,
   "metadata": {
    "collapsed": true
   },
   "outputs": [],
   "source": [
    "import numpy as np\n",
    "from sklearn.feature_extraction.text import TfidfVectorizer\n",
    "from sklearn.metrics.pairwise import paired_cosine_distances\n",
    "\n",
    "class TfIdfSimilarityExtractor(object):\n",
    "    def __init__(self, ngram, min_df):\n",
    "        self.vectorizer = TfidfVectorizer(min_df=min_df, ngram_range=(1,ngram), stop_words=\"english\")\n",
    "        \n",
    "    def train(self, train_data):\n",
    "        self.vectorizer.fit(np.hstack((train_data[\"content\"], train_data[\"content_parent\"])))\n",
    "        print \"Vocab size %d\" % len(self.vectorizer.vocabulary_)\n",
    "        \n",
    "        features_reply = self.vectorizer.transform(train_data[\"content\"])\n",
    "        features_parent = self.vectorizer.transform(train_data[\"content_parent\"])\n",
    "        \n",
    "        d = paired_cosine_distances(features_reply, features_parent)\n",
    "        d = np.reshape(d, (np.shape(d)[0],1))\n",
    "        return d\n",
    "        \n",
    "    def transform(self, test_data):\n",
    "        features_reply = self.vectorizer.transform(test_data[\"content\"])\n",
    "        features_parent = self.vectorizer.transform(test_data[\"content_parent\"])\n",
    "        \n",
    "        d = paired_cosine_distances(features_reply, features_parent)\n",
    "        d = np.reshape(d, (np.shape(d)[0],1))\n",
    "        return d"
   ]
  },
  {
   "cell_type": "code",
   "execution_count": 38,
   "metadata": {
    "collapsed": false
   },
   "outputs": [
    {
     "name": "stdout",
     "output_type": "stream",
     "text": [
      "Training feature extractor diff-tfidf-1.\n",
      "Vocab size 70230\n",
      "Generating validation set...\n",
      "Generating test set...\n",
      "Writing to disk...\n",
      "Done.\n"
     ]
    }
   ],
   "source": [
    "common.extract_features(\"ka-replies-balanced\", TfIdfSimilarityExtractor(1, 2), \"diff-tfidf-1\")"
   ]
  },
  {
   "cell_type": "code",
   "execution_count": 39,
   "metadata": {
    "collapsed": false
   },
   "outputs": [
    {
     "name": "stdout",
     "output_type": "stream",
     "text": [
      "Loading features diff-tfidf-1.\n",
      "Training models.\n",
      "##        MultinomialNB    diff-tfidf-1 accuracy: 50.0 %\n",
      "##            LinearSVC    diff-tfidf-1 accuracy: 53.5 %\n",
      "##                  MLP    diff-tfidf-1 accuracy: 57.6 %\n"
     ]
    }
   ],
   "source": [
    "common.test_features(\"diff-tfidf-1\")"
   ]
  },
  {
   "cell_type": "code",
   "execution_count": 40,
   "metadata": {
    "collapsed": false
   },
   "outputs": [
    {
     "name": "stdout",
     "output_type": "stream",
     "text": [
      "Training feature extractor diff-tfidf-2.\n",
      "Vocab size 228695\n",
      "Generating validation set...\n",
      "Generating test set...\n",
      "Writing to disk...\n",
      "Done.\n"
     ]
    }
   ],
   "source": [
    "common.extract_features(\"ka-replies-balanced\", TfIdfSimilarityExtractor(2, 6), \"diff-tfidf-2\")"
   ]
  },
  {
   "cell_type": "code",
   "execution_count": 41,
   "metadata": {
    "collapsed": false
   },
   "outputs": [
    {
     "name": "stdout",
     "output_type": "stream",
     "text": [
      "Loading features diff-tfidf-2.\n",
      "Training models.\n",
      "##        MultinomialNB    diff-tfidf-2 accuracy: 50.0 %\n",
      "##            LinearSVC    diff-tfidf-2 accuracy: 53.1 %\n",
      "##                  MLP    diff-tfidf-2 accuracy: 58.4 %\n"
     ]
    }
   ],
   "source": [
    "common.test_features(\"diff-tfidf-2\")"
   ]
  },
  {
   "cell_type": "code",
   "execution_count": 42,
   "metadata": {
    "collapsed": false
   },
   "outputs": [
    {
     "name": "stdout",
     "output_type": "stream",
     "text": [
      "Loading features diff-tfidf-2.\n",
      "Loading features reply-tfidf-2.\n",
      "Combining features.\n",
      "Training models.\n",
      "##        MultinomialNB     diff-tfidf-2_reply-tfidf-2 accuracy: 62.4 %\n",
      "##            LinearSVC     diff-tfidf-2_reply-tfidf-2 accuracy: 59.5 %\n",
      "##                  MLP     diff-tfidf-2_reply-tfidf-2 accuracy: 62.1 %\n"
     ]
    }
   ],
   "source": [
    "common.test_combined_features([\"diff-tfidf-2\", \"reply-tfidf-2\"])"
   ]
  },
  {
   "cell_type": "code",
   "execution_count": null,
   "metadata": {
    "collapsed": true
   },
   "outputs": [],
   "source": []
  }
 ],
 "metadata": {
  "kernelspec": {
   "display_name": "Python 2",
   "language": "python",
   "name": "python2"
  },
  "language_info": {
   "codemirror_mode": {
    "name": "ipython",
    "version": 2
   },
   "file_extension": ".py",
   "mimetype": "text/x-python",
   "name": "python",
   "nbconvert_exporter": "python",
   "pygments_lexer": "ipython2",
   "version": "2.7.12"
  }
 },
 "nbformat": 4,
 "nbformat_minor": 1
}
