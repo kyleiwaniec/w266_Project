{
 "cells": [
  {
   "cell_type": "code",
   "execution_count": 1,
   "metadata": {
    "collapsed": false
   },
   "outputs": [
    {
     "data": {
      "text/plain": [
       "<module 'common' from 'common.pyc'>"
      ]
     },
     "execution_count": 1,
     "metadata": {},
     "output_type": "execute_result"
    }
   ],
   "source": [
    "import common\n",
    "reload(common)"
   ]
  },
  {
   "cell_type": "code",
   "execution_count": 2,
   "metadata": {
    "collapsed": false
   },
   "outputs": [
    {
     "name": "stdout",
     "output_type": "stream",
     "text": [
      "Loading features diff-tfidf-2.\n",
      "Loading features reply-tfidf-2.\n",
      "Loading features reply-len.\n",
      "Loading features reply-counts.\n",
      "Combining features.\n",
      "Training models.\n",
      "##        MultinomialNB diff-tfidf-2_reply-tfidf-2_reply-len_reply-counts accuracy: 62.8 %\n",
      "##            LinearSVC diff-tfidf-2_reply-tfidf-2_reply-len_reply-counts accuracy: 50.1 %\n",
      "##                  MLP diff-tfidf-2_reply-tfidf-2_reply-len_reply-counts accuracy: 64.6 %\n",
      "##                 MLP2 diff-tfidf-2_reply-tfidf-2_reply-len_reply-counts accuracy: 65.2 %\n"
     ]
    }
   ],
   "source": [
    "common.test_combined_features([\"diff-tfidf-2\", \"reply-tfidf-2\", \"reply-len\", \"reply-counts\"])"
   ]
  },
  {
   "cell_type": "code",
   "execution_count": null,
   "metadata": {
    "collapsed": true
   },
   "outputs": [],
   "source": []
  }
 ],
 "metadata": {
  "kernelspec": {
   "display_name": "Python 2",
   "language": "python",
   "name": "python2"
  },
  "language_info": {
   "codemirror_mode": {
    "name": "ipython",
    "version": 2
   },
   "file_extension": ".py",
   "mimetype": "text/x-python",
   "name": "python",
   "nbconvert_exporter": "python",
   "pygments_lexer": "ipython2",
   "version": "2.7.12"
  }
 },
 "nbformat": 4,
 "nbformat_minor": 1
}
