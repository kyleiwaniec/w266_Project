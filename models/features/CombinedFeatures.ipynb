{
 "cells": [
  {
   "cell_type": "code",
   "execution_count": 5,
   "metadata": {
    "collapsed": false
   },
   "outputs": [
    {
     "data": {
      "text/plain": [
       "<module 'common' from 'common.pyc'>"
      ]
     },
     "execution_count": 5,
     "metadata": {},
     "output_type": "execute_result"
    }
   ],
   "source": [
    "import common\n",
    "reload(common)"
   ]
  },
  {
   "cell_type": "code",
   "execution_count": 10,
   "metadata": {
    "collapsed": false
   },
   "outputs": [
    {
     "name": "stdout",
     "output_type": "stream",
     "text": [
      "Loading features diff-tfidf-2.\n",
      "Loading features reply-tfidf-2.\n",
      "Loading features reply-len.\n",
      "Loading features reply-counts.\n",
      "Combining features: (308216, 1) + (308216, 145427) + (308216, 1) + (308216, 1)\n",
      "Training models.\n",
      "##        MultinomialNB diff-tfidf-2_reply-tfidf-2_reply-len_reply-counts precision: 63.1% recall: 61.6%\n",
      "##            LinearSVC diff-tfidf-2_reply-tfidf-2_reply-len_reply-counts precision: 50.1% recall: 97.1%\n",
      "##                  MLP diff-tfidf-2_reply-tfidf-2_reply-len_reply-counts precision: 62.6% recall: 65.8%\n",
      "##                 MLP2 diff-tfidf-2_reply-tfidf-2_reply-len_reply-counts precision: 62.5% recall: 63.6%\n"
     ]
    }
   ],
   "source": [
    "common.test_combined_features([\"diff-tfidf-2\", \"reply-tfidf-2\", \"reply-len\", \"reply-counts\"])"
   ]
  },
  {
   "cell_type": "code",
   "execution_count": null,
   "metadata": {
    "collapsed": false
   },
   "outputs": [
    {
     "name": "stdout",
     "output_type": "stream",
     "text": [
      "Loading features rank-tfidf-2.\n",
      "Loading features rank-len.\n",
      "Loading features rank-counts.\n",
      "Combining features: (407128, 158751) + (407128, 1) + (407128, 1)\n",
      "Training models.\n",
      "##        MultinomialNB rank-tfidf-2_rank-len_rank-counts precision: 60.3% recall: 92.2%\n",
      "##            LinearSVC rank-tfidf-2_rank-len_rank-counts precision: 53.3% recall: 99.4%\n",
      "##                  MLP rank-tfidf-2_rank-len_rank-counts precision: 55.0% recall: 71.6%\n",
      "##                 MLP2 rank-tfidf-2_rank-len_rank-counts precision: 47.6% recall: 21.1%\n"
     ]
    }
   ],
   "source": [
    "common.test_combined_features([\"rank-tfidf-2\", \"rank-len\", \"rank-counts\"])"
   ]
  },
  {
   "cell_type": "code",
   "execution_count": null,
   "metadata": {
    "collapsed": false
   },
   "outputs": [
    {
     "name": "stdout",
     "output_type": "stream",
     "text": [
      "Loading features binary-tfidf-2.\n",
      "Loading features binary-len.\n",
      "Combining features: (841600, 1280094) + (841600, 2)\n",
      "Training models.\n",
      "##        MultinomialNB binary-tfidf-2_binary-len precision: 49.3% recall: 48.9%\n",
      "##            LinearSVC binary-tfidf-2_binary-len precision: 50.1% recall: 98.9%\n"
     ]
    }
   ],
   "source": [
    "common.test_combined_features([\"binary-tfidf-2\", \"binary-len\"])"
   ]
  },
  {
   "cell_type": "code",
   "execution_count": null,
   "metadata": {
    "collapsed": true
   },
   "outputs": [],
   "source": []
  }
 ],
 "metadata": {
  "kernelspec": {
   "display_name": "Python 2",
   "language": "python",
   "name": "python2"
  },
  "language_info": {
   "codemirror_mode": {
    "name": "ipython",
    "version": 2
   },
   "file_extension": ".py",
   "mimetype": "text/x-python",
   "name": "python",
   "nbconvert_exporter": "python",
   "pygments_lexer": "ipython2",
   "version": "2.7.12"
  }
 },
 "nbformat": 4,
 "nbformat_minor": 1
}
