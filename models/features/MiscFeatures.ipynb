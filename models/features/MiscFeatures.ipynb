{
 "cells": [
  {
   "cell_type": "code",
   "execution_count": 13,
   "metadata": {
    "collapsed": false
   },
   "outputs": [
    {
     "data": {
      "text/plain": [
       "<module 'common' from 'common.py'>"
      ]
     },
     "execution_count": 13,
     "metadata": {},
     "output_type": "execute_result"
    }
   ],
   "source": [
    "import numpy as np\n",
    "\n",
    "import common\n",
    "reload(common)"
   ]
  },
  {
   "cell_type": "code",
   "execution_count": 14,
   "metadata": {
    "collapsed": true
   },
   "outputs": [],
   "source": [
    "import scipy.sparse\n",
    "\n",
    "class ContentLengthFeatureExtractor(object):\n",
    "    def train(self, train_data):\n",
    "        return self.transform(train_data)\n",
    "        \n",
    "    def transform(self, test_data):\n",
    "        return scipy.sparse.csr_matrix([[len(c)] for c in test_data[\"content\"]])"
   ]
  },
  {
   "cell_type": "code",
   "execution_count": 15,
   "metadata": {
    "collapsed": false
   },
   "outputs": [
    {
     "name": "stdout",
     "output_type": "stream",
     "text": [
      "Loading ka-comments-balanced dataset.\n",
      "Training feature extractor all-len.\n",
      "Generating validation set...\n",
      "Generating test set...\n",
      "Writing to disk...\n",
      "Done.\n"
     ]
    }
   ],
   "source": [
    "common.extract_features(\"ka-comments-balanced\", ContentLengthFeatureExtractor(), \"all-len\")"
   ]
  },
  {
   "cell_type": "code",
   "execution_count": 16,
   "metadata": {
    "collapsed": false
   },
   "outputs": [
    {
     "name": "stdout",
     "output_type": "stream",
     "text": [
      "Loading features all-len.\n",
      "Training models.\n",
      "##        MultinomialNB         all-len accuracy: 50.0 %\n",
      "##            LinearSVC         all-len accuracy: 50.0 %\n",
      "##                  MLP         all-len accuracy: 62.3 %\n",
      "##                 MLP2         all-len accuracy: 61.7 %\n"
     ]
    }
   ],
   "source": [
    "common.test_features(\"all-len\")"
   ]
  },
  {
   "cell_type": "code",
   "execution_count": 15,
   "metadata": {
    "collapsed": false
   },
   "outputs": [
    {
     "name": "stdout",
     "output_type": "stream",
     "text": [
      "Loading ka-replies-balanced dataset.\n",
      "Training feature extractor reply-len.\n",
      "Generating validation set...\n",
      "Generating test set...\n",
      "Writing to disk...\n",
      "Done.\n"
     ]
    }
   ],
   "source": [
    "common.extract_features(\"ka-replies-balanced\", ContentLengthFeatureExtractor(), \"reply-len\")"
   ]
  },
  {
   "cell_type": "code",
   "execution_count": 16,
   "metadata": {
    "collapsed": false
   },
   "outputs": [
    {
     "name": "stdout",
     "output_type": "stream",
     "text": [
      "Loading features reply-len.\n",
      "Training models.\n",
      "##        MultinomialNB       reply-len accuracy: 50.0 %\n",
      "##            LinearSVC       reply-len accuracy: 59.4 %\n",
      "##                  MLP       reply-len accuracy: 62.2 %\n",
      "##                 MLP2       reply-len accuracy: 62.5 %\n"
     ]
    }
   ],
   "source": [
    "common.test_features(\"reply-len\")"
   ]
  },
  {
   "cell_type": "code",
   "execution_count": 22,
   "metadata": {
    "collapsed": true
   },
   "outputs": [],
   "source": [
    "class ContentCommentCountFeatureExtractor(object):\n",
    "    def train(self, train_data):\n",
    "        return self.transform(train_data)\n",
    "        \n",
    "    def transform(self, test_data):\n",
    "        return scipy.sparse.csr_matrix(np.reshape(test_data[\"totalComments\"], (np.shape(test_data)[0], 1)))"
   ]
  },
  {
   "cell_type": "code",
   "execution_count": 23,
   "metadata": {
    "collapsed": false
   },
   "outputs": [
    {
     "name": "stdout",
     "output_type": "stream",
     "text": [
      "Loading ka-comments-balanced dataset.\n",
      "Training feature extractor all-counts.\n",
      "Generating validation set...\n",
      "Generating test set...\n",
      "Writing to disk...\n",
      "Done.\n"
     ]
    }
   ],
   "source": [
    "common.extract_features(\"ka-comments-balanced\", ContentCommentCountFeatureExtractor(), \"all-counts\")"
   ]
  },
  {
   "cell_type": "code",
   "execution_count": 24,
   "metadata": {
    "collapsed": false
   },
   "outputs": [
    {
     "name": "stdout",
     "output_type": "stream",
     "text": [
      "Loading features all-counts.\n",
      "Training models.\n",
      "##        MultinomialNB      all-counts accuracy: 50.0 %\n",
      "##            LinearSVC      all-counts accuracy: 50.6 %\n",
      "##                  MLP      all-counts accuracy: 45.4 %\n",
      "##                 MLP2      all-counts accuracy: 45.4 %\n"
     ]
    }
   ],
   "source": [
    "common.test_features(\"all-counts\")"
   ]
  },
  {
   "cell_type": "code",
   "execution_count": 25,
   "metadata": {
    "collapsed": false
   },
   "outputs": [
    {
     "name": "stdout",
     "output_type": "stream",
     "text": [
      "Loading ka-replies-balanced dataset.\n",
      "Training feature extractor reply-counts.\n",
      "Generating validation set...\n",
      "Generating test set...\n",
      "Writing to disk...\n",
      "Done.\n"
     ]
    }
   ],
   "source": [
    "common.extract_features(\"ka-replies-balanced\", ContentCommentCountFeatureExtractor(), \"reply-counts\")"
   ]
  },
  {
   "cell_type": "code",
   "execution_count": 26,
   "metadata": {
    "collapsed": false
   },
   "outputs": [
    {
     "name": "stdout",
     "output_type": "stream",
     "text": [
      "Loading features reply-counts.\n",
      "Training models.\n",
      "##        MultinomialNB    reply-counts accuracy: 50.0 %\n",
      "##            LinearSVC    reply-counts accuracy: 53.6 %\n",
      "##                  MLP    reply-counts accuracy: 59.3 %\n",
      "##                 MLP2    reply-counts accuracy: 59.1 %\n"
     ]
    }
   ],
   "source": [
    "common.test_features(\"reply-counts\")"
   ]
  },
  {
   "cell_type": "code",
   "execution_count": 19,
   "metadata": {
    "collapsed": false
   },
   "outputs": [
    {
     "name": "stdout",
     "output_type": "stream",
     "text": [
      "Loading features all-counts.\n",
      "Loading features all-len.\n",
      "Combining features.\n",
      "Training models.\n",
      "##        MultinomialNB             all-counts_all-len accuracy: 56.9 %\n",
      "##            LinearSVC             all-counts_all-len accuracy: 41.7 %\n",
      "##                  MLP             all-counts_all-len accuracy: 56.1 %\n",
      "##                 MLP2             all-counts_all-len accuracy: 58.1 %\n"
     ]
    }
   ],
   "source": [
    "common.test_combined_features([\"all-counts\", \"all-len\"])"
   ]
  },
  {
   "cell_type": "code",
   "execution_count": 20,
   "metadata": {
    "collapsed": false
   },
   "outputs": [
    {
     "name": "stdout",
     "output_type": "stream",
     "text": [
      "Loading features reply-counts.\n",
      "Loading features reply-len.\n",
      "Combining features.\n",
      "Training models.\n",
      "##        MultinomialNB         reply-counts_reply-len accuracy: 62.8 %\n",
      "##            LinearSVC         reply-counts_reply-len accuracy: 61.7 %\n",
      "##                  MLP         reply-counts_reply-len accuracy: 62.9 %\n",
      "##                 MLP2         reply-counts_reply-len accuracy: 62.3 %\n"
     ]
    }
   ],
   "source": [
    "common.test_combined_features([\"reply-counts\", \"reply-len\"])"
   ]
  },
  {
   "cell_type": "code",
   "execution_count": null,
   "metadata": {
    "collapsed": true
   },
   "outputs": [],
   "source": []
  }
 ],
 "metadata": {
  "kernelspec": {
   "display_name": "Python 2",
   "language": "python",
   "name": "python2"
  },
  "language_info": {
   "codemirror_mode": {
    "name": "ipython",
    "version": 2
   },
   "file_extension": ".py",
   "mimetype": "text/x-python",
   "name": "python",
   "nbconvert_exporter": "python",
   "pygments_lexer": "ipython2",
   "version": "2.7.12"
  }
 },
 "nbformat": 4,
 "nbformat_minor": 1
}
