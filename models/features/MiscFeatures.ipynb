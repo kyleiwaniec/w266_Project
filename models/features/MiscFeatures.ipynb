{
 "cells": [
  {
   "cell_type": "code",
   "execution_count": 1,
   "metadata": {
    "collapsed": false
   },
   "outputs": [
    {
     "data": {
      "text/plain": [
       "<module 'common' from 'common.pyc'>"
      ]
     },
     "execution_count": 1,
     "metadata": {},
     "output_type": "execute_result"
    }
   ],
   "source": [
    "import numpy as np\n",
    "\n",
    "import common\n",
    "reload(common)"
   ]
  },
  {
   "cell_type": "code",
   "execution_count": 2,
   "metadata": {
    "collapsed": true
   },
   "outputs": [],
   "source": [
    "import scipy.sparse\n",
    "\n",
    "class ContentLengthFeatureExtractor(object):\n",
    "    def train(self, train_data):\n",
    "        return self.transform(train_data)\n",
    "        \n",
    "    def transform(self, test_data):\n",
    "        return scipy.sparse.csr_matrix([[len(c)] for c in test_data[\"content\"]])"
   ]
  },
  {
   "cell_type": "code",
   "execution_count": 15,
   "metadata": {
    "collapsed": false
   },
   "outputs": [
    {
     "name": "stdout",
     "output_type": "stream",
     "text": [
      "Loading ka-comments-balanced dataset.\n",
      "Training feature extractor all-len.\n",
      "Generating validation set...\n",
      "Generating test set...\n",
      "Writing to disk...\n",
      "Done.\n"
     ]
    }
   ],
   "source": [
    "common.extract_features(\"ka-comments-balanced\", ContentLengthFeatureExtractor(), \"all-len\")"
   ]
  },
  {
   "cell_type": "code",
   "execution_count": 2,
   "metadata": {
    "collapsed": false
   },
   "outputs": [
    {
     "name": "stdout",
     "output_type": "stream",
     "text": [
      "Loading features all-len.\n",
      "Training models.\n",
      "##        MultinomialNB         all-len precision: 0.0% recall: 0.0%\n",
      "##            LinearSVC         all-len precision: 57.0% recall: 83.2%\n",
      "##                  MLP         all-len precision: 62.9% recall: 59.4%\n",
      "##                 MLP2         all-len precision: 60.3% recall: 69.9%\n"
     ]
    }
   ],
   "source": [
    "common.test_features(\"all-len\")"
   ]
  },
  {
   "cell_type": "code",
   "execution_count": 15,
   "metadata": {
    "collapsed": false
   },
   "outputs": [
    {
     "name": "stdout",
     "output_type": "stream",
     "text": [
      "Loading ka-replies-balanced dataset.\n",
      "Training feature extractor reply-len.\n",
      "Generating validation set...\n",
      "Generating test set...\n",
      "Writing to disk...\n",
      "Done.\n"
     ]
    }
   ],
   "source": [
    "common.extract_features(\"ka-replies-balanced\", ContentLengthFeatureExtractor(), \"reply-len\")"
   ]
  },
  {
   "cell_type": "code",
   "execution_count": 3,
   "metadata": {
    "collapsed": false
   },
   "outputs": [
    {
     "name": "stdout",
     "output_type": "stream",
     "text": [
      "Loading features reply-len.\n",
      "Training models.\n",
      "##        MultinomialNB       reply-len precision: 0.0% recall: 0.0%\n",
      "##            LinearSVC       reply-len precision: 63.0% recall: 58.2%\n",
      "##                  MLP       reply-len precision: 61.8% recall: 64.3%\n",
      "##                 MLP2       reply-len precision: 61.7% recall: 64.6%\n"
     ]
    }
   ],
   "source": [
    "common.test_features(\"reply-len\")"
   ]
  },
  {
   "cell_type": "code",
   "execution_count": 18,
   "metadata": {
    "collapsed": false
   },
   "outputs": [
    {
     "name": "stdout",
     "output_type": "stream",
     "text": [
      "Loading ka-rank-balanced dataset.\n",
      "Training feature extractor rank-len.\n",
      "Generating validation set...\n",
      "Generating test set...\n",
      "Writing to disk...\n",
      "Done.\n"
     ]
    }
   ],
   "source": [
    "common.extract_features(\"ka-rank-balanced\", ContentLengthFeatureExtractor(), \"rank-len\")"
   ]
  },
  {
   "cell_type": "code",
   "execution_count": 4,
   "metadata": {
    "collapsed": false
   },
   "outputs": [
    {
     "name": "stdout",
     "output_type": "stream",
     "text": [
      "Loading features rank-len.\n",
      "Training models.\n",
      "##        MultinomialNB        rank-len precision: 0.0% recall: 0.0%\n",
      "##            LinearSVC        rank-len precision: 43.1% recall: 48.2%\n",
      "##                  MLP        rank-len precision: 39.1% recall: 21.8%\n",
      "##                 MLP2        rank-len precision: 39.4% recall: 21.5%\n"
     ]
    }
   ],
   "source": [
    "reload(common)\n",
    "common.test_features(\"rank-len\")"
   ]
  },
  {
   "cell_type": "code",
   "execution_count": 12,
   "metadata": {
    "collapsed": true
   },
   "outputs": [],
   "source": [
    "class ContentCommentCountFeatureExtractor(object):\n",
    "    def train(self, train_data):\n",
    "        return self.transform(train_data)\n",
    "        \n",
    "    def transform(self, test_data):\n",
    "        return scipy.sparse.csr_matrix(np.reshape(test_data[\"totalComments\"], (np.shape(test_data)[0], 1)))"
   ]
  },
  {
   "cell_type": "code",
   "execution_count": 23,
   "metadata": {
    "collapsed": false
   },
   "outputs": [
    {
     "name": "stdout",
     "output_type": "stream",
     "text": [
      "Loading ka-comments-balanced dataset.\n",
      "Training feature extractor all-counts.\n",
      "Generating validation set...\n",
      "Generating test set...\n",
      "Writing to disk...\n",
      "Done.\n"
     ]
    }
   ],
   "source": [
    "common.extract_features(\"ka-comments-balanced\", ContentCommentCountFeatureExtractor(), \"all-counts\")"
   ]
  },
  {
   "cell_type": "code",
   "execution_count": 5,
   "metadata": {
    "collapsed": false
   },
   "outputs": [
    {
     "name": "stdout",
     "output_type": "stream",
     "text": [
      "Loading features all-counts.\n",
      "Training models.\n",
      "##        MultinomialNB      all-counts precision: 0.0% recall: 0.0%\n",
      "##            LinearSVC      all-counts precision: 46.0% recall: 85.1%\n",
      "##                  MLP      all-counts precision: 43.7% recall: 32.3%\n",
      "##                 MLP2      all-counts precision: 47.6% recall: 24.4%\n"
     ]
    }
   ],
   "source": [
    "common.test_features(\"all-counts\")"
   ]
  },
  {
   "cell_type": "code",
   "execution_count": 25,
   "metadata": {
    "collapsed": false
   },
   "outputs": [
    {
     "name": "stdout",
     "output_type": "stream",
     "text": [
      "Loading ka-replies-balanced dataset.\n",
      "Training feature extractor reply-counts.\n",
      "Generating validation set...\n",
      "Generating test set...\n",
      "Writing to disk...\n",
      "Done.\n"
     ]
    }
   ],
   "source": [
    "common.extract_features(\"ka-replies-balanced\", ContentCommentCountFeatureExtractor(), \"reply-counts\")"
   ]
  },
  {
   "cell_type": "code",
   "execution_count": 6,
   "metadata": {
    "collapsed": false
   },
   "outputs": [
    {
     "name": "stdout",
     "output_type": "stream",
     "text": [
      "Loading features reply-counts.\n",
      "Training models.\n",
      "##        MultinomialNB    reply-counts precision: 0.0% recall: 0.0%\n",
      "##            LinearSVC    reply-counts precision: 50.0% recall: 100.0%\n",
      "##                  MLP    reply-counts precision: 68.7% recall: 38.2%\n",
      "##                 MLP2    reply-counts precision: 65.6% recall: 39.5%\n"
     ]
    }
   ],
   "source": [
    "common.test_features(\"reply-counts\")"
   ]
  },
  {
   "cell_type": "code",
   "execution_count": 20,
   "metadata": {
    "collapsed": false
   },
   "outputs": [
    {
     "name": "stdout",
     "output_type": "stream",
     "text": [
      "Loading ka-rank-balanced dataset.\n",
      "Training feature extractor rank-counts.\n",
      "Generating validation set...\n",
      "Generating test set...\n",
      "Writing to disk...\n",
      "Done.\n"
     ]
    }
   ],
   "source": [
    "common.extract_features(\"ka-rank-balanced\", ContentCommentCountFeatureExtractor(), \"rank-counts\")"
   ]
  },
  {
   "cell_type": "code",
   "execution_count": 7,
   "metadata": {
    "collapsed": false
   },
   "outputs": [
    {
     "name": "stdout",
     "output_type": "stream",
     "text": [
      "Loading features rank-counts.\n",
      "Training models.\n",
      "##        MultinomialNB     rank-counts precision: 0.0% recall: 0.0%\n",
      "##            LinearSVC     rank-counts precision: 54.0% recall: 99.4%\n",
      "##                  MLP     rank-counts precision: 60.9% recall: 97.3%\n",
      "##                 MLP2     rank-counts precision: 60.6% recall: 98.2%\n"
     ]
    }
   ],
   "source": [
    "common.test_features(\"rank-counts\")"
   ]
  },
  {
   "cell_type": "code",
   "execution_count": 8,
   "metadata": {
    "collapsed": false
   },
   "outputs": [
    {
     "name": "stdout",
     "output_type": "stream",
     "text": [
      "Loading features all-counts.\n",
      "Loading features all-len.\n",
      "Combining features: (488240, 1) + (488240, 1)\n",
      "Training models.\n",
      "##        MultinomialNB all-counts_all-len precision: 56.3% recall: 61.2%\n",
      "##            LinearSVC all-counts_all-len precision: 50.0% recall: 100.0%\n",
      "##                  MLP all-counts_all-len precision: 49.4% recall: 27.4%\n",
      "##                 MLP2 all-counts_all-len precision: 50.2% recall: 42.2%\n"
     ]
    }
   ],
   "source": [
    "common.test_combined_features([\"all-counts\", \"all-len\"])"
   ]
  },
  {
   "cell_type": "code",
   "execution_count": 9,
   "metadata": {
    "collapsed": false
   },
   "outputs": [
    {
     "name": "stdout",
     "output_type": "stream",
     "text": [
      "Loading features reply-counts.\n",
      "Loading features reply-len.\n",
      "Combining features: (308216, 1) + (308216, 1)\n",
      "Training models.\n",
      "##        MultinomialNB reply-counts_reply-len precision: 63.1% recall: 61.6%\n",
      "##            LinearSVC reply-counts_reply-len precision: 50.0% recall: 100.0%\n",
      "##                  MLP reply-counts_reply-len precision: 71.7% recall: 35.6%\n",
      "##                 MLP2 reply-counts_reply-len precision: 70.6% recall: 38.3%\n"
     ]
    }
   ],
   "source": [
    "common.test_combined_features([\"reply-counts\", \"reply-len\"])"
   ]
  },
  {
   "cell_type": "code",
   "execution_count": 10,
   "metadata": {
    "collapsed": false
   },
   "outputs": [
    {
     "name": "stdout",
     "output_type": "stream",
     "text": [
      "Loading features rank-counts.\n",
      "Loading features rank-len.\n",
      "Combining features: (407128, 1) + (407128, 1)\n",
      "Training models.\n",
      "##        MultinomialNB rank-counts_rank-len precision: 61.7% recall: 92.7%\n",
      "##            LinearSVC rank-counts_rank-len precision: 0.0% recall: 0.0%\n",
      "##                  MLP rank-counts_rank-len precision: 68.8% recall: 83.4%\n",
      "##                 MLP2 rank-counts_rank-len precision: 62.9% recall: 94.4%\n"
     ]
    }
   ],
   "source": [
    "reload(common)\n",
    "common.test_combined_features([\"rank-counts\", \"rank-len\"])"
   ]
  },
  {
   "cell_type": "code",
   "execution_count": 8,
   "metadata": {
    "collapsed": true
   },
   "outputs": [],
   "source": [
    "import scipy.sparse\n",
    "\n",
    "class ContentComparisonLengthFeatureExtractor(object):\n",
    "    def train(self, train_data):\n",
    "        return self.transform(train_data)\n",
    "        \n",
    "    def transform(self, test_data):\n",
    "        return scipy.sparse.csr_matrix([\n",
    "            [len(left), len(right)]\n",
    "            for left, right in zip(test_data[\"content_left\"], test_data[\"content_right\"])\n",
    "        ])\n"
   ]
  },
  {
   "cell_type": "code",
   "execution_count": 9,
   "metadata": {
    "collapsed": false
   },
   "outputs": [
    {
     "name": "stdout",
     "output_type": "stream",
     "text": [
      "Training feature extractor binary-len.\n",
      "Generating validation set...\n",
      "Generating test set...\n",
      "Writing to disk...\n",
      "Done.\n"
     ]
    }
   ],
   "source": [
    "common.extract_features(\"ka-binary\", ContentComparisonLengthFeatureExtractor(), \"binary-len\")"
   ]
  },
  {
   "cell_type": "code",
   "execution_count": 11,
   "metadata": {
    "collapsed": false
   },
   "outputs": [
    {
     "name": "stdout",
     "output_type": "stream",
     "text": [
      "Loading features binary-len.\n",
      "Training models.\n",
      "##        MultinomialNB      binary-len precision: 51.5% recall: 51.8%\n",
      "##            LinearSVC      binary-len precision: 50.0% recall: 100.0%\n",
      "##                  MLP      binary-len precision: 51.4% recall: 51.9%\n",
      "##                 MLP2      binary-len precision: 51.3% recall: 60.2%\n"
     ]
    }
   ],
   "source": [
    "common.test_features(\"binary-len\")"
   ]
  },
  {
   "cell_type": "code",
   "execution_count": null,
   "metadata": {
    "collapsed": true
   },
   "outputs": [],
   "source": []
  }
 ],
 "metadata": {
  "kernelspec": {
   "display_name": "Python 2",
   "language": "python",
   "name": "python2"
  },
  "language_info": {
   "codemirror_mode": {
    "name": "ipython",
    "version": 2
   },
   "file_extension": ".py",
   "mimetype": "text/x-python",
   "name": "python",
   "nbconvert_exporter": "python",
   "pygments_lexer": "ipython2",
   "version": "2.7.12"
  }
 },
 "nbformat": 4,
 "nbformat_minor": 1
}
