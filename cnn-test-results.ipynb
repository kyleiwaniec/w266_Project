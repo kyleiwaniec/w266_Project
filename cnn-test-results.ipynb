{
 "cells": [
  {
   "cell_type": "code",
   "execution_count": 30,
   "metadata": {
    "collapsed": true
   },
   "outputs": [],
   "source": [
    "%matplotlib inline\n",
    "from __future__ import division\n",
    "import matplotlib.pyplot as plt\n",
    "import numpy as np\n",
    "import pandas as pd\n",
    "\n",
    "# from features import common\n",
    "from IPython.display import Image, HTML"
   ]
  },
  {
   "cell_type": "code",
   "execution_count": 31,
   "metadata": {
    "collapsed": false
   },
   "outputs": [],
   "source": [
    "run = str(1482016882)\n",
    "scores = pd.read_csv(\"/Users/koza/Documents/UCBerkeley/266/FinalProject/w266_Project/cnn-text-classification-tf/runs/\"+run+\"/prediction.csv\",\n",
    "                    header=None)\n"
   ]
  },
  {
   "cell_type": "code",
   "execution_count": 32,
   "metadata": {
    "collapsed": false
   },
   "outputs": [
    {
     "data": {
      "text/plain": [
       "Int64Index([0, 1, 2], dtype='int64')"
      ]
     },
     "execution_count": 32,
     "metadata": {},
     "output_type": "execute_result"
    }
   ],
   "source": [
    "scores.keys()"
   ]
  },
  {
   "cell_type": "code",
   "execution_count": 33,
   "metadata": {
    "collapsed": true
   },
   "outputs": [],
   "source": [
    "def score(df,pred,label):\n",
    "  true_positives = float(np.sum((df[pred] == 1) & (df[label] == 1)))\n",
    "  true_negatives = float(np.sum((df[pred] == 0) & (df[label] == 0)))\n",
    "  false_positives = float(np.sum((df[pred] == 0) & (df[label] == 1)))\n",
    "  false_negatives = float(np.sum((df[pred] == 1) & (df[label] == 0)))\n",
    "\n",
    "  precision = true_positives / max(1, true_positives + false_positives)\n",
    "  recall = true_positives / max(1, true_positives + false_negatives)\n",
    "  f1 = (2*precision*recall)/(precision + recall)\n",
    "  accuracy = float(np.sum((df[pred] == df[label]))/len(df[pred]))\n",
    "  return (precision, recall, f1,accuracy)"
   ]
  },
  {
   "cell_type": "code",
   "execution_count": 34,
   "metadata": {
    "collapsed": false
   },
   "outputs": [
    {
     "name": "stdout",
     "output_type": "stream",
     "text": [
      "1482016882 (0.8815958815958816, 0.6613565049481053, 0.7557578265066889, 0.6458)\n"
     ]
    }
   ],
   "source": [
    "# 1481637188\n",
    "print run, score(scores,1,2)"
   ]
  },
  {
   "cell_type": "code",
   "execution_count": null,
   "metadata": {
    "collapsed": true
   },
   "outputs": [],
   "source": []
  }
 ],
 "metadata": {
  "kernelspec": {
   "display_name": "Python 2",
   "language": "python",
   "name": "python2"
  },
  "language_info": {
   "codemirror_mode": {
    "name": "ipython",
    "version": 2
   },
   "file_extension": ".py",
   "mimetype": "text/x-python",
   "name": "python",
   "nbconvert_exporter": "python",
   "pygments_lexer": "ipython2",
   "version": "2.7.11"
  }
 },
 "nbformat": 4,
 "nbformat_minor": 0
}
