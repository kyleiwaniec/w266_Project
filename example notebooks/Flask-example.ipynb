{
 "cells": [
  {
   "cell_type": "code",
   "execution_count": null,
   "metadata": {
    "collapsed": true
   },
   "outputs": [],
   "source": [
    "from flask import Flask, render_template, json, request\n",
    "from flask.ext.mysql import MySQL\n",
    "from werkzeug import generate_password_hash, check_password_hash\n",
    "\n",
    "mysql = MySQL()\n",
    "app = Flask(__name__)\n",
    "\n",
    "# MySQL configurations\n",
    "app.config['MYSQL_DATABASE_USER'] = 'jay'\n",
    "app.config['MYSQL_DATABASE_PASSWORD'] = 'jay'\n",
    "app.config['MYSQL_DATABASE_DB'] = 'BucketList'\n",
    "app.config['MYSQL_DATABASE_HOST'] = 'localhost'\n",
    "mysql.init_app(app)"
   ]
  },
  {
   "cell_type": "code",
   "execution_count": 1,
   "metadata": {
    "collapsed": true
   },
   "outputs": [],
   "source": []
  },
  {
   "cell_type": "code",
   "execution_count": null,
   "metadata": {
    "collapsed": true
   },
   "outputs": [],
   "source": [
    "@app.route('/')\n",
    "def main():\n",
    "    return render_template('index.html')\n",
    "\n",
    "@app.route('/showSignUp')\n",
    "def showSignUp():\n",
    "    return render_template('signup.html')\n",
    "\n",
    "\n",
    "@app.route('/signUp',methods=['POST','GET'])\n",
    "def signUp():\n",
    "    try:\n",
    "        _name = request.form['inputName']\n",
    "        _email = request.form['inputEmail']\n",
    "        _password = request.form['inputPassword']\n",
    "\n",
    "        # validate the received values\n",
    "        if _name and _email and _password:\n",
    "            \n",
    "            # All Good, let's call MySQL\n",
    "            \n",
    "            conn = mysql.connect()\n",
    "            cursor = conn.cursor()\n",
    "            _hashed_password = generate_password_hash(_password)\n",
    "            cursor.callproc('sp_createUser',(_name,_email,_hashed_password))\n",
    "            data = cursor.fetchall()\n",
    "\n",
    "            if len(data) is 0:\n",
    "                conn.commit()\n",
    "                return json.dumps({'message':'User created successfully !'})\n",
    "            else:\n",
    "                return json.dumps({'error':str(data[0])})\n",
    "        else:\n",
    "            return json.dumps({'html':'<span>Enter the required fields</span>'})\n",
    "\n",
    "    except Exception as e:\n",
    "        return json.dumps({'error':str(e)})\n",
    "    finally:\n",
    "        cursor.close() \n",
    "        conn.close()\n",
    "\n",
    "if __name__ == \"__main__\":\n",
    "    app.run(port=5002)"
   ]
  }
 ],
 "metadata": {
  "kernelspec": {
   "display_name": "Python 2",
   "language": "python",
   "name": "python2"
  },
  "language_info": {
   "codemirror_mode": {
    "name": "ipython",
    "version": 2
   },
   "file_extension": ".py",
   "mimetype": "text/x-python",
   "name": "python",
   "nbconvert_exporter": "python",
   "pygments_lexer": "ipython2",
   "version": "2.7.11"
  }
 },
 "nbformat": 4,
 "nbformat_minor": 0
}
